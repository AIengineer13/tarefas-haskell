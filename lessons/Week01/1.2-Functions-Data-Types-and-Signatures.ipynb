{
 "cells": [
  {
   "cell_type": "markdown",
   "metadata": {},
   "source": [
    "# Functions, Data Types and Signatures\n",
    "\n",
    "## Outline\n",
    "\n",
    "In this lecture we'll introduce important notions such as:\n",
    "\n",
    "* types;\n",
    "\n",
    "* function signatures;\n",
    "\n",
    "* lists and basic operations with them. "
   ]
  },
  {
   "cell_type": "markdown",
   "metadata": {},
   "source": [
    "## Types and signatures\n",
    "\n",
    "**What is a type?** A type is a kind of label that every expression has. \n",
    "\n",
    "**Benefits provided by types**:\n",
    "* Everything in Haskell has a type.\n",
    "* Types are used to group similar values into categories. \n",
    "* The type of every expression is known at compile time, which leads to safer code.\n",
    "* The type system is a powerful way of reducing the number of mistakes in your code.\n",
    "\n",
    "**Why do we need types?** Haskell is a *functional* programming language and every program consists of *functions*. Each function takes a fixed number of parameters of some types and returns a value which also has a type. For instance, a function"
   ]
  },
  {
   "cell_type": "code",
   "execution_count": null,
   "metadata": {},
   "outputs": [],
   "source": [
    "not :: Bool -> Bool"
   ]
  },
  {
   "cell_type": "markdown",
   "metadata": {},
   "source": [
    "takes a parameter of type `Bool` and returns its negation, which is again of type `Bool`."
   ]
  },
  {
   "cell_type": "markdown",
   "metadata": {},
   "source": [
    "### Frequently used types\n",
    "\n",
    "Among the standard types that are frequently used in Haskell are\n",
    "* `Int` and `Integer` for integer numbers;\n",
    "* `Float` and `Double` for floating point real numbers;\n",
    "* `Bool` for truth values `True` and `False`;\n",
    "* `Char` for characters;\n",
    "* `String` for text variables.\n",
    "\n",
    "Another notation for `String` type is `[Char]`, where the square brackets stand for the list operator: any string is a list of symbols that individually have type Char. \n",
    "\n",
    "It doesn’t matter which of two names for the type to use, but text values are usually denoted as `String`, rather than `[Char]`. "
   ]
  },
  {
   "cell_type": "code",
   "execution_count": null,
   "metadata": {},
   "outputs": [],
   "source": [
    "Prelude> \"Hello world!\" :: String\n",
    "\"Hello world!\"\n",
    "Prelude> \"Hello world!\" :: [Char]\n",
    "\"Hello world!\""
   ]
  },
  {
   "cell_type": "markdown",
   "metadata": {},
   "source": [
    "### How to check the type?\n",
    "\n",
    "The `:type` command (or `:t` for short) in GHCI, followed by any valid expression, tells us its type:\n"
   ]
  },
  {
   "cell_type": "code",
   "execution_count": null,
   "metadata": {},
   "outputs": [],
   "source": [
    "Prelude> :type True\n",
    "True :: Bool\n",
    "Prelude> :type False\n",
    "False :: Bool\n",
    "Prelude> :t (3 < 5)\n",
    "(3 < 5) :: Bool\n",
    "Prelude> :t 'A'\n",
    "'A' :: Char\n",
    "Prelude> :t \"Hello world!\"\n",
    "\"Hello world!\" :: [Char]"
   ]
  },
  {
   "cell_type": "markdown",
   "metadata": {},
   "source": [
    "The double colon symbol `::` should be read as simply \"is of type\", and indicates a type *signature*. \n"
   ]
  },
  {
   "cell_type": "markdown",
   "metadata": {},
   "source": [
    "## Signature of a function\n",
    "\n",
    "Let's explain what is a type siggnature by the following example. In Haskell a function that squares its argument is defined as "
   ]
  },
  {
   "cell_type": "code",
   "execution_count": null,
   "metadata": {},
   "outputs": [],
   "source": [
    "square :: Int -> Int\n",
    "square v = v*v"
   ]
  },
  {
   "cell_type": "markdown",
   "metadata": {},
   "source": [
    "The first line contains the **signature**, the second line contains the **definition** of a function `square`.\n",
    "\n",
    "* A **signature** of a function is a message to the whole world that such function exists, here it is name and here are the types it works with. \n",
    "\n",
    "* A **definition** of a function is an information about what exactly this function does.\n",
    "\n",
    "In the signature"
   ]
  },
  {
   "cell_type": "code",
   "execution_count": null,
   "metadata": {},
   "outputs": [],
   "source": [
    "square :: Int -> Int"
   ]
  },
  {
   "cell_type": "markdown",
   "metadata": {},
   "source": [
    "two parts are *separated* by a double colon into \n",
    "\n",
    "* the **name** of the function on the left and\n",
    "\n",
    "* the types that this function works with, namely the types of the arguments and the type of the computed final value on the right. \n",
    "\n",
    "**All data in a Haskell program is of a particular type**, and since the function works with data, its **signature contains the types of the data that are separated by arrows `->`**.\n",
    "\n",
    "The signature of the squaring function `square` tells that it accepts a *unique* argument of type `Int` and returns a value of the same `Int` type. \n",
    "\n",
    "If there are more than one argument, the signature is simply pulled out. For example, `prod` function signature, which returns the product of two integer arguments, could look like this:"
   ]
  },
  {
   "cell_type": "code",
   "execution_count": null,
   "metadata": {},
   "outputs": [],
   "source": [
    "prod :: Int -> Int -> Int"
   ]
  },
  {
   "cell_type": "markdown",
   "metadata": {},
   "source": [
    "It has two arguments of `Int` type and its output also has `Int` type."
   ]
  },
  {
   "cell_type": "markdown",
   "metadata": {},
   "source": [
    "#### What signature tells us? \n",
    "\n",
    "Looking at the *rightmost arrow `->`* in the signature we understand that \n",
    "\n",
    "* everything to the left of it are **types of arguments**, that can also be separated by arrows `->`; \n",
    "* everything to the right is a **type of the calculated value**."
   ]
  },
  {
   "cell_type": "markdown",
   "metadata": {},
   "source": [
    "## Definition of a function\n",
    "\n",
    "In the **definition** of a function the equality sign `=` separates the code in two parts:\n",
    "\n",
    "* to the left of the equal sign is the **name of a function** and **argument names** (names, not types!), separated by spaces;\n",
    "\n",
    "* to the right there is an expression that is the essence of the function, its contents. \n",
    "\n",
    "Sometimes these parts are called **head** and **body** respectively. For instance, in the definition of the squaring function"
   ]
  },
  {
   "cell_type": "code",
   "execution_count": null,
   "metadata": {},
   "outputs": [],
   "source": [
    "square v = v * v"
   ]
  },
  {
   "cell_type": "markdown",
   "metadata": {},
   "source": [
    "the name of function is `square`, the (unique) argument is `v`, the head is `square v`, and the body is `v * v`."
   ]
  },
  {
   "cell_type": "markdown",
   "metadata": {},
   "source": [
    "## Parameters\n",
    "\n",
    "**In Haskell, there is no assignment operator:** each function is ultimately an expression that is evaluated by applying some other functions to some other paameters, so we simply do not need anything to assign to nothing.\n",
    "\n",
    "The assignment came from imperative languages. Imperative programming combines several programming paradigms, one of which is the famous object-oriented paradigm. Using this approach, the program is perceived as a set of instructions, the fulfillment of which is inextricably linked with a change in the state of this programs. That is why in imperative languages ​​there is always a concept of **variable**. And since there are variables, there must be an operator of assignment. When we write:\n",
    "\n",
    "`coeff = 0.569`\n",
    "\n",
    "we command a computer \"to take the value `0.569` and overwrite it with that value which was already contained in the variable `coeff` before\". And we overwrite this value many times, and therefore, we are forced to keep track of the current state of the `coeff` variable carefully, as well as the states of all other variables in our code.\n",
    "\n",
    "There is a fundamentally different approach, namely the declarative programming. This direction also includes several paradigms, one of which is the **functiononal paradigm**, embodied in Haskell. With this approach the program is no longer perceived as a set of instructions, but as a set of expressions. And since expressions are evaluated by applying functions to arguments (that is, in fact, to other expressions), there is **no place for either variables or assignment operator**. All data in a Haskell program, once created\n",
    "once, can no longer be changed. \n",
    "\n",
    "`We do not need not only the operator assignments, but also the const keyword!` \n",
    "\n",
    "When in Haskell code we write\n",
    "\n",
    "`coeff = 0.569`\n",
    "\n",
    "we simply declare: \"From now on, the value of coeff is 0.569, and so it will always be.\" This is why, in Haskell code, the symbol `=` is an equals sign in the mathematical sense, and it has nothing to do with assignment. "
   ]
  },
  {
   "cell_type": "markdown",
   "metadata": {},
   "source": [
    "# Data types\n",
    "\n",
    "### Integer number types: Int and Integer\n",
    "\n",
    "**Integer** is an arbitrary precision type: *it will hold any number no matter how big*, up to the limit of your machine's memory, so you never have arithmetic overflows. On the other hand it also means your arithmetic is relatively slow. \n",
    "\n",
    "**Int** is the more common 32 or 64 bit integer. Implementations vary, although it is guaranteed to be at least 30 bits. (In 32-bit machines the range goes from -2147483648 to 2147483647)\n",
    "\n",
    "There are several basic operations common to all numeric types; these include, among others, addition, subtraction, negation, multiplication, and absolute value."
   ]
  },
  {
   "cell_type": "code",
   "execution_count": null,
   "metadata": {},
   "outputs": [],
   "source": [
    "Prelude> 1 + 2\n",
    "3\n",
    "Prelude> 5 - 9\n",
    "-4\n",
    "Prelude> 10 * 4\n",
    "40\n",
    "Prelude> negate 4\n",
    "-4"
   ]
  },
  {
   "cell_type": "markdown",
   "metadata": {},
   "source": [
    "Division is not an integer division by default:"
   ]
  },
  {
   "cell_type": "code",
   "execution_count": null,
   "metadata": {},
   "outputs": [],
   "source": [
    "Prelude> 35 / 5\n",
    "7.0"
   ]
  },
  {
   "cell_type": "markdown",
   "metadata": {},
   "source": [
    "but there are the integer division operators:\n",
    "\n",
    "* **quot** returns the quotient of the two numbers. This is the result of division which is then **truncated towards zero**.\n",
    "* **rem** returns the remainder from the quotient.\n",
    "* **div** similar to *quot*, but is **rounded down towards minus infinity**.\n",
    "* **mod** returns the modulus of the two numbers. This is similar to the remainder *rem*, but has different rules when *div* returns a negative number."
   ]
  },
  {
   "cell_type": "code",
   "execution_count": null,
   "metadata": {},
   "outputs": [],
   "source": [
    "Prelude> div (-30) 9\n",
    "-4\n",
    "Prelude> quot (-30) 9\n",
    "-3\n",
    "Prelude> rem (-30) 9\n",
    "-3\n",
    "Prelude> mod (-30) 9\n",
    "6"
   ]
  },
  {
   "cell_type": "markdown",
   "metadata": {},
   "source": [
    "### Floating point number types: Float and Double\n",
    "\n",
    "#### Difference between Float and Double\n",
    "\n",
    "**Float** is a real floating point with single precision (32 bits), while **Double** is a real floating point with double the precision (64 bits). Both this types support as expected addition, subtraction, negation and multiplication opeations. \n",
    "\n",
    "Behaviorally, you can see the difference between these types if you start up ghci and write:"
   ]
  },
  {
   "cell_type": "code",
   "execution_count": null,
   "metadata": {},
   "outputs": [],
   "source": [
    "-- Square root of 20000000 as Double\n",
    "Prelude> sqrt (20000000) :: Double\n",
    "4472.13595499958\n",
    "\n",
    "-- Square root of 20000000 as Float\n",
    "Prelude> sqrt (20000000) :: Float\n",
    "4472.1357"
   ]
  },
  {
   "cell_type": "markdown",
   "metadata": {},
   "source": [
    "So, when asking for a Float from a square root, the obtained precision is lower. But on a 64 bit machine, they typically need the same space. So then using a Float is not saving you anything. "
   ]
  },
  {
   "cell_type": "markdown",
   "metadata": {},
   "source": [
    "#### Powering\n",
    "\n",
    "There are three \"raise to the power\" operators which work differently and take different argument types.\n",
    "* ** - Takes two floating point numbers and uses logarithms to compute the power.\n",
    "* ^^ - Takes a fractional number (i.e. a floating point or a ratio, of which more later) and raises it to a positive or negative integer power.\n",
    "* ^  - Takes any numerical type and raises it to a positive integer power."
   ]
  },
  {
   "cell_type": "code",
   "execution_count": null,
   "metadata": {},
   "outputs": [],
   "source": [
    "Prelude> 10 ** 3\n",
    "1000.0\n",
    "Prelude> 5 ^^ (-2)\n",
    "4.0e-2\n",
    "Prelude> 5 ^^ 0   \n",
    "1.0\n",
    "Prelude> 5 ^ 0 \n",
    "1"
   ]
  },
  {
   "cell_type": "markdown",
   "metadata": {},
   "source": [
    "#### Other functions for Float and Double types\n",
    "\n",
    "* Conversion from an integer type (Int or Integer) to anything else is done by **fromIntegral**. The target type is inferred automatically. So for example:"
   ]
  },
  {
   "cell_type": "code",
   "execution_count": null,
   "metadata": {},
   "outputs": [],
   "source": [
    "Prelude> (fromIntegral (-5)) :: Float\n",
    "-5.0\n",
    "Prelude> (fromIntegral 5) :: Double\n",
    "5.0"
   ]
  },
  {
   "cell_type": "markdown",
   "metadata": {},
   "source": [
    "* Exponentiation, natural logarithm, based logarithm and square root functions are given by **exp, log, logBase, sqrt** "
   ]
  },
  {
   "cell_type": "code",
   "execution_count": null,
   "metadata": {},
   "outputs": [],
   "source": [
    "Prelude> exp 3\n",
    "20.085536923187668\n",
    "Prelude> log (exp 1)\n",
    "1.0\n",
    "Prelude> log 10\n",
    "2.302585092994046\n",
    "Prelude> logBase 10 100\n",
    "2.0\n",
    "Prelude> sqrt 625\n",
    "25.0"
   ]
  },
  {
   "cell_type": "markdown",
   "metadata": {},
   "source": [
    "* Usual trigonometric functions are suppoted by both real number types: **sin,cos,tan,asin,acos,atan**\n",
    "\n",
    "* Number $\\pi$ and exponentianion constant $e$ are given by **pi** and **exp 1**"
   ]
  },
  {
   "cell_type": "code",
   "execution_count": null,
   "metadata": {},
   "outputs": [],
   "source": [
    "Prelude> pi\n",
    "3.141592653589793\n",
    "Prelude> exp 1\n",
    "2.718281828459045"
   ]
  },
  {
   "cell_type": "markdown",
   "metadata": {},
   "source": [
    "### Boolean type Bool\n",
    "\n",
    "* Haskell has a boolean type **Bool**, with two values: **True** and **False**.\n",
    "\n",
    "* There are also *and* and *or* operators **&&** and **||** defined on the Bool type. "
   ]
  },
  {
   "cell_type": "code",
   "execution_count": null,
   "metadata": {},
   "outputs": [],
   "source": [
    "(&&) :: Bool -> Bool -> Bool\n",
    "\n",
    "(||) :: Bool -> Bool -> Bool"
   ]
  },
  {
   "cell_type": "markdown",
   "metadata": {},
   "source": [
    "* The negation function\n"
   ]
  },
  {
   "cell_type": "code",
   "execution_count": null,
   "metadata": {},
   "outputs": [],
   "source": [
    "not :: Bool -> Bool"
   ]
  },
  {
   "cell_type": "markdown",
   "metadata": {},
   "source": [
    "that returns an opposite truth value of the argument:"
   ]
  },
  {
   "cell_type": "code",
   "execution_count": null,
   "metadata": {},
   "outputs": [],
   "source": [
    "Prelude> not True\n",
    "False\n",
    "Prelude> not False\n",
    "True"
   ]
  },
  {
   "cell_type": "markdown",
   "metadata": {},
   "source": [
    "* Numbers, characters and strings can be compared using the usual **comparison operators** to produce a Bool value: **==, /=, <=, >=, <, >**"
   ]
  },
  {
   "cell_type": "code",
   "execution_count": null,
   "metadata": {},
   "outputs": [],
   "source": [
    "Prelude> 3 == 4\n",
    "False\n",
    "Prelude> 5 /= 0\n",
    "True\n",
    "Prelude> 3 <= 5\n",
    "True\n",
    "Prelude> 3 >= 0\n",
    "True\n",
    "Prelude> 7.2 < 6.1\n",
    "False\n",
    "Prelude> pi > exp 1\n",
    "True"
   ]
  },
  {
   "cell_type": "markdown",
   "metadata": {},
   "source": [
    "### Character type Char\n",
    "\n",
    "Text presents a problem to computers. At its lowest level, a computer only knows binary 1s and 0s. To represent text, every character is first converted to a number, then that number is converted to binary and stored. That's how a piece of text (which is just a sequence of characters) is encoded into binary. We're only interested in how to encode characters into their numerical representations, because the computer takes care of the conversion to binary numbers without our intervention.\n",
    "\n",
    "Literal character values have type `Char` (short for \"character\"). It's denoted by **single quotes**. It could be any alphabet letter or a number or a symbol. \n",
    "\n",
    "The character type Char is an enumeration and consists of 16 bit values, conforming to the Unicode standard. There are standard functions that relate char symbols with their numbers in the enumeration:\n",
    "\n",
    "* `toEnum` returns the item at argument position from `Char` enumeration;\n",
    "\n",
    "* `fromEnum` returns the argument position in `Char` enumeration."
   ]
  },
  {
   "cell_type": "code",
   "execution_count": null,
   "metadata": {},
   "outputs": [],
   "source": [
    "Prelude> fromEnum '~'\n",
    "126\n",
    "Prelude> toEnum 126 :: Char\n",
    "'~'"
   ]
  },
  {
   "cell_type": "markdown",
   "metadata": {},
   "source": [
    "To obtain a character next or before the given one, functions `succ` and `pred` are used."
   ]
  },
  {
   "cell_type": "code",
   "execution_count": null,
   "metadata": {},
   "outputs": [],
   "source": [
    "Prelude> succ '%'\n",
    "'&'\n",
    "Prelude> pred '&'\n",
    "'%'"
   ]
  },
  {
   "cell_type": "markdown",
   "metadata": {},
   "source": [
    "#### Module Data.Char\n",
    "\n",
    "The 'Data.Char' module does what its name suggests: it exports functions that deal with characters. Here are some of the exported functions over characters with signature `Char -> Bool`:\n",
    "\n",
    "* `isSpace` checks whether a character is a white-space character; that includes spaces, tab characters, newlines etc.;\n",
    "* `isLower` checks whether a character is a lower-case character;\n",
    "* `isUpper` checks whether a character is an upper-case character;\n",
    "* `isAlpha` checks whether a character is a letter;\n",
    "* `isAlphaNum` checks whether a character is a letter or a number;\n",
    "* `isDigit` checks whether a character is a digit;\n",
    "* `isLetter` checks whether a character is a letter;\n",
    "* `isNumber` checks whether a character is numeric;\n",
    "* `isPunctuation` checks whether a character is a punctuation;\n",
    "* `isSymbol` checks whether a character is a mathematical or currency symbol.\n",
    "\n",
    "A command `:module Data.Char` (or `:m Data.Char`) loads the `Data.Char` module where they are defined."
   ]
  },
  {
   "cell_type": "code",
   "execution_count": null,
   "metadata": {},
   "outputs": [],
   "source": [
    "Prelude> :m Data.Char\n",
    "Prelude Data.Char> isAlpha 'a'\n",
    "True\n",
    "Prelude Data.Char> isPunctuation 'h'\n",
    "False"
   ]
  },
  {
   "cell_type": "markdown",
   "metadata": {},
   "source": [
    "### Lists\n",
    "\n",
    "In Haskell, **lists are a homogenous data structure**. \n",
    "\n",
    "**Homogeneous** means that it stores several elements of the same type: That means that we can have a list of integers or a list of characters but we can't have a list that has a few integers and then a few characters. \n",
    "\n",
    "#### Notations\n",
    "\n",
    "* Lists are denoted by square brackets `[1,5,3,-4,0]` and the values in the lists are **separated by commas**.\n",
    "\n",
    "* If `a` is a type (like `Char`, `Int` or `Float`), an expression `[a]` denotes a list type whose components has type `a`.\n",
    "\n",
    "* A first element in a list is called a **head**, while the list of all other elements is called a **tail**. These operations are realized by the functions"
   ]
  },
  {
   "cell_type": "code",
   "execution_count": null,
   "metadata": {},
   "outputs": [],
   "source": [
    "head :: [a] -> a\n",
    "tail :: [a] -> [a]"
   ]
  },
  {
   "cell_type": "markdown",
   "metadata": {},
   "source": [
    "* To join an element of a type `a` to a list whose entries are of the same type, the **cons** operator, denoted by a colon `:`, is used:"
   ]
  },
  {
   "cell_type": "code",
   "execution_count": null,
   "metadata": {},
   "outputs": [],
   "source": [
    "Prelude> 6 : [3,4,6]\n",
    "[6,3,4,6]"
   ]
  },
  {
   "cell_type": "markdown",
   "metadata": {},
   "source": [
    "* Lists can be defined by creating a step in a range: "
   ]
  },
  {
   "cell_type": "code",
   "execution_count": null,
   "metadata": {},
   "outputs": [],
   "source": [
    "Prelude> [3,5..22]\n",
    "[3,5,7,9,11,13,15,17,19,21]"
   ]
  },
  {
   "cell_type": "markdown",
   "metadata": {},
   "source": [
    "The result will hold all elements starting from `3` with a step `2 = 5 - 3` that doesn't exceed `22` (if the last element doesn't fit in a defined step pattern, it will be ommited from the result). By default, if the step is not specified, the element after the first one is the next element in the enumeration up to the defined upper limit. For instance:"
   ]
  },
  {
   "cell_type": "code",
   "execution_count": null,
   "metadata": {},
   "outputs": [],
   "source": []
  },
  {
   "cell_type": "code",
   "execution_count": null,
   "metadata": {},
   "outputs": [],
   "source": [
    "Prelude> [3..7]\n",
    "[3,4,5,6,7]\n",
    "Prelude> ['a'..'g']\n",
    "\"abcdefg\""
   ]
  },
  {
   "cell_type": "markdown",
   "metadata": {},
   "source": [
    "If the increment is negative, the elements will be listed in the desceasing order:"
   ]
  },
  {
   "cell_type": "code",
   "execution_count": null,
   "metadata": {},
   "outputs": [],
   "source": [
    "Prelude> [17..3]\n",
    "[] \n",
    "Prelude> [17,14..3]\n",
    "[17,14,11,8,5]"
   ]
  },
  {
   "cell_type": "markdown",
   "metadata": {},
   "source": [
    "The first example above returns an empty list since the step is not specified and so is one, and there are no integers larger than `17` but less or equal than `3`."
   ]
  },
  {
   "cell_type": "markdown",
   "metadata": {},
   "source": [
    "* A common task is putting two lists together. This is done by using the **concatenation** `++` operator.  "
   ]
  },
  {
   "cell_type": "code",
   "execution_count": null,
   "metadata": {},
   "outputs": [],
   "source": [
    "Prelude> [1,3,7,9] ++ [3,3,1]\n",
    "[1,3,7,9,3,3,1]"
   ]
  },
  {
   "cell_type": "markdown",
   "metadata": {},
   "source": [
    "**Warning** Repeated usage of the `++` operator on long lists (even if you append a singleton list to a list, for instance: `[1,2,3] ++ [4]`), forces Haskell has to *walk through the whole list* on the left side of `++`. Therefore, putting something at the end of a list that's fifty million entries long is going to take a while! However, putting something at the beginning of a list using the cons operator `:` is instantaneous! \n",
    "\n",
    "#### Empty list\n",
    "\n",
    "`[]` is an empty list, that is a list without elements. It still matters the type of the elements in an empty list: an empty list of `Int`'s and an empty list of `Char`'s belong to two different types!\n",
    "\n",
    "**Why do we need an empty list?** Any list is obtained by a repeated application of the cons operator to the empty list:\n",
    "\n",
    "$$[1,3,6] = 1 : (3 : (6 : [~])))$$\n",
    "\n",
    "**Do we need so many parenthesis?** The cons operation is so called *right associative* that means that in the expression $1 : 3 : 6 : [~]$ the operations `:` are applied starting from the right, so\n",
    "\n",
    "$$1 : 3 : 6 : [~] = 1 : (3 : (6 : [~])))$$\n",
    "\n",
    "and the result is a list $[1,3,6]$.\n",
    "\n",
    "**Warning!** The following lists \n",
    "\n",
    "$$[~],~~~~   [[~]],~~~~   [[~],[~],[~]]$$ \n",
    "\n",
    "are all different things. The first one is an empty list, the seconds one is a list that contains one empty list, the third one is a list that contains three empty lists."
   ]
  },
  {
   "cell_type": "markdown",
   "metadata": {},
   "source": [
    "#### Length, sum, null and elem functions\n",
    "\n",
    "Among many other useful functions defined for lists we briefly mention the following:\n",
    "\n",
    "* `length` takes a list and returns its length;\n",
    "\n",
    "* `null` checks if a list is empty;\n",
    "\n",
    "* `sum` takes a list of numbers and returns their sum;\n",
    "\n",
    "* `elem` takes an element `x` and a list of elements `l` of the same type and checks if `x` is an element of the list `l`."
   ]
  },
  {
   "cell_type": "code",
   "execution_count": null,
   "metadata": {},
   "outputs": [],
   "source": [
    "Prelude> length [2,4,5,6,7]\n",
    "5\n",
    "Prelude> length []\n",
    "0\n",
    "Prelude> null []\n",
    "True\n",
    "Prelude> sum [-1,0,1,6,-5,-1]\n",
    "0\n",
    "Prelude> elem 5 [6,3,5,7,5]\n",
    "True"
   ]
  },
  {
   "cell_type": "markdown",
   "metadata": {},
   "source": [
    "#### Infinite lists\n",
    "\n",
    "You can also use ranges to make infinite lists by just not specifying an upper limit. We can also specify a pattern how to create an infinite list.\n",
    "\n",
    "* `[1..]` is an infinite list $[1,2,3,4,5,...]$.\n",
    "\n",
    "* `[1,3..]` is an infinite list of integers $[1,3,5,7,9,...]$. The difference between the second and the first elements determine the increment step, which can also be *negative*.\n",
    "\n",
    "* A function `take` with parameters a positive integer `n` and a list `l` returns a list of first `n` elements in a (potentially infinite) list `l`. If there are less elements than the list length, all elements are returned."
   ]
  },
  {
   "cell_type": "code",
   "execution_count": null,
   "metadata": {},
   "outputs": [],
   "source": [
    "Prelude> take 7 [1..] \n",
    "[1,2,3,4,5,6,7]\n",
    "\n",
    "Prelude> take 7 [1,3..]\n",
    "[1,3,5,7,9,11,13]\n",
    "\n",
    "Prelude> take 7 [5,3..]  \n",
    "[5,3,1,-1,-3,-5,-7]\n",
    "\n",
    "Prelude> take 7 [5..] \n",
    "[5,6,7,8,9,10,11]\n",
    "\n",
    "Prelude> take 7 ['x'..]\n",
    "\"xyz{|}~\""
   ]
  },
  {
   "cell_type": "markdown",
   "metadata": {},
   "source": [
    "### Strings"
   ]
  },
  {
   "cell_type": "markdown",
   "metadata": {},
   "source": [
    "**What is a string?** A string is a list of characters.\n",
    "\n",
    "The `String` type is the most basic form of representing strings in Haskell. It is a simple type synonym for a list of unicode characters (the `Char` type). So whenever you see `[Char]` in your compile errors, know this refers to the basic `String` type. By default, when you enter in a string literal in your Haskell code, the compiler infers it as a `String`.\n",
    "\n",
    "**How to denote a string?** While char variables are surrounded by single quotes `''`, strings are surrounded by **double quotes `\"\"`**.\n",
    "\n"
   ]
  },
  {
   "cell_type": "code",
   "execution_count": null,
   "metadata": {},
   "outputs": [],
   "source": [
    "Prelude> :t 'a'\n",
    "'a' :: Char\n",
    "Prelude> :t \"Hello\"\n",
    "\"Hello\" :: [Char]"
   ]
  },
  {
   "cell_type": "markdown",
   "metadata": {},
   "source": [
    "`\"Hello\"` is just syntactic sugar for `['h','e','l','l','o']`. Because strings are lists, we can use list functions on them, which is really handy.\n",
    "\n",
    "A common task is putting two lists together. This is done by using the `++` operator. "
   ]
  },
  {
   "cell_type": "code",
   "execution_count": null,
   "metadata": {},
   "outputs": [],
   "source": [
    "Prelude> \"Hello \" ++ \"world!\"\n",
    "\"Hello world!\""
   ]
  },
  {
   "cell_type": "markdown",
   "metadata": {},
   "source": [
    "The other list functions also work as expexted:"
   ]
  },
  {
   "cell_type": "code",
   "execution_count": null,
   "metadata": {},
   "outputs": [],
   "source": [
    "Prelude> length \"abc\"\n",
    "3\n",
    "Prelude> head \"Sugar\"\n",
    "'S'"
   ]
  },
  {
   "cell_type": "markdown",
   "metadata": {},
   "source": [
    "#### Escaping and breaking the string\n",
    "\n",
    "Some characters must be **escaped** to be represented inside a character or string literal. For example, a double quote character inside a string literal must be escaped, or else it will be treated as the end of the string. Haskell uses essentially the same single-character escapes as many other popular languages:\n",
    "\n",
    "* `\\0` is a null character;\n",
    "* `\\n` a is newline (line feed) character;\n",
    "* `\\r` is a carriage return;\n",
    "* `\\t` is a horizontal tab;\n",
    "* `\\v` is a vertical tab;\n",
    "* `\\\"` is a double quote;\n",
    "* `\\&` is an empty string;\n",
    "* `\\'` is a single quote;\n",
    "* `\\\\` is a backslash.\n",
    "\n",
    "Any text consists of paragraphs, while paragraphs consist of sentenses, and, finally, sentences consist of words. So any text is just a *string* and there are some useful functions that break a given string into words or into lines. \n",
    "\n",
    "* `words :: String -> [String]` creates an array of string from the original one, with a space characters serving as separators.\n",
    "* `unwords :: [String] -> String` creates a string from an array of strings, it inserts space characters between original strings. \n",
    "* `lines :: String -> [String]` creates an array of string from the original one, with new line characters `\\n` serving as separators.\n",
    "* `unlines :: [String] -> String` creates a string from an array of strings, it inserts new line characters `\\n` between original strings. "
   ]
  },
  {
   "cell_type": "code",
   "execution_count": null,
   "metadata": {},
   "outputs": [],
   "source": [
    "Prelude> words \"To be or not to be?\"\n",
    "[\"To\",\"be\",\"or\",\"not\",\"to\",\"be?\"]\n",
    "Prelude> lines \"How are you doing? \\n I'm fine, how about you?\"\n",
    "[\"How are you doing? \",\" I'm fine, how about you?\"]"
   ]
  },
  {
   "cell_type": "markdown",
   "metadata": {},
   "source": [
    "### Tuples\n",
    "\n"
   ]
  },
  {
   "cell_type": "markdown",
   "metadata": {},
   "source": [
    "How we'd represent a two-dimensional vector in Haskell? If we need to represent a matrix\n",
    "$$\n",
    "    \\begin{pmatrix}\n",
    "        1 & 2 & 3 \\\\\n",
    "        4 & 5 & 6\n",
    "    \\end{pmatrix}\n",
    "$$\n",
    "we can think about it as a list of length 3 whose components are pairs:\n",
    "$$\n",
    "    [(1,4),(2,5),(3,6)]\n",
    "$$\n",
    "However, if one try to write `[(1,4),(2,5,7),(3,6)]` the error will be obtained, as all elements in a list should be pairs, not pairs or triples. Still the expression `[[1,4],[2,5,7],[3,6]]` works but it is not a list of pairs anymore."
   ]
  },
  {
   "cell_type": "markdown",
   "metadata": {},
   "source": [
    "#### Bounds on the tuple length\n",
    "\n",
    "There is no upper bound on the size of a tuple, but some Haskell implementations may restrict the size of tuples, and limit the instances associated with larger tuples. However, every Haskell implementation must support tuples up to size 15. The Prelude and libraries define tuple functions for tuples up to a size of 7.\n",
    "\n",
    "#### Constructing tuples\n",
    "\n",
    "We can construct a tuple by omitting the expressions surrounding the commas: thus `(x,y)` and `(,) x y` produce the same value. The same holds for tuple type constructors: `(Int,Bool,Int)` and `(,,) Int Bool Int` denote the same type."
   ]
  },
  {
   "cell_type": "code",
   "execution_count": null,
   "metadata": {},
   "outputs": [],
   "source": [
    "Prelude> (,) 4 True\n",
    "(4,True)\n",
    "Prelude> (,,,) True 4 'A' \"Something\"\n",
    "(True,4,'A',\"Something\")"
   ]
  },
  {
   "cell_type": "markdown",
   "metadata": {},
   "source": [
    "#### Pairs\n",
    "\n",
    "The following functions are defined for pairs (2-tuples): \n",
    "\n",
    "* `fst` returns the first item in a pair;\n",
    "* `snd` returns the second item in a pair.\n",
    "\n",
    "Similar functions are not predefined for larger tuples."
   ]
  },
  {
   "cell_type": "code",
   "execution_count": null,
   "metadata": {},
   "outputs": [],
   "source": [
    "Prelude> fst ('A',438)\n",
    "'A'\n",
    "Prelude> snd ('A',438)\n",
    "438"
   ]
  },
  {
   "cell_type": "markdown",
   "metadata": {},
   "source": [
    "There is a very useful function `zip` that creates a list of pairs out of two lists. The length of the resulting list is chosen to be the *shorter* one."
   ]
  },
  {
   "cell_type": "code",
   "execution_count": null,
   "metadata": {},
   "outputs": [],
   "source": [
    "Prelude> zip [1..] ['a'..'g']\n",
    "[(1,'a'),(2,'b'),(3,'c'),(4,'d'),(5,'e'),(6,'f'),(7,'g')]"
   ]
  },
  {
   "cell_type": "markdown",
   "metadata": {},
   "source": [
    "## Infix and prefix notations\n",
    "\n",
    "Some functions allow syntactically to apply them in two different notations: infix and prefix notations.\n",
    "\n",
    "#### Infix\n",
    "\n",
    "Let's look at an expression:\n",
    "\n",
    "$$1+2$$\n",
    "\n",
    "The function `+` is written in **infix form**, that is, **between its arguments**. This entry looks less natural than the usual:\n",
    "\n",
    "$$(+)~~1~~2$$\n",
    "\n",
    "We see the appeared parentheses around the plus character. They say that this function is intended for *infix* entry. The author of this function initially counted on the infix use form `1 + 2` rather than the `(+) 1 2`, which is why the function name is enclosed in parentheses in the definition:\n",
    "\n",
    "$$(+)~::~Int~->~Int~->~Int$$\n",
    "\n",
    "Functions intended for the infix form of application are called **operators**.\n",
    "\n",
    "#### Prefix\n",
    "\n",
    "If the function name is not enclosed in parentheses, it is assumed that we consider the usual form of its application, that is it is used in a **prefix form**. "
   ]
  },
  {
   "cell_type": "code",
   "execution_count": null,
   "metadata": {},
   "outputs": [],
   "source": [
    "Prelude> elem 4  [2..5]\n",
    "True"
   ]
  },
  {
   "cell_type": "markdown",
   "metadata": {},
   "source": [
    "However, even in this case it is possible to change it infix, but the name must be enclosed in back single quotes `backticks`."
   ]
  },
  {
   "cell_type": "code",
   "execution_count": null,
   "metadata": {},
   "outputs": [],
   "source": [
    "Prelude> 4 `elem` [2..5]\n",
    "True"
   ]
  },
  {
   "cell_type": "markdown",
   "metadata": {},
   "source": [
    "**Why is this needed?** Almost all ASCII characters (as well as their various combinations) can be used as operators in Haskell. This gives us an ample opportunity to create different EDSLs (Embedded Domain Specific Languages), a kind of \"languages in language\"."
   ]
  }
 ],
 "metadata": {
  "language_info": {
   "name": "python"
  },
  "orig_nbformat": 4
 },
 "nbformat": 4,
 "nbformat_minor": 2
}
