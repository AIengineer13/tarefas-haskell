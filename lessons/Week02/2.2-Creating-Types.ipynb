{
 "cells": [
  {
   "cell_type": "markdown",
   "metadata": {},
   "source": [
    "# Creating Types"
   ]
  },
  {
   "cell_type": "markdown",
   "metadata": {},
   "source": [
    "## Outline\n",
    "* Type synonyms\n",
    "\t* What\n",
    "\t* Why\n",
    "\t* Type Parameters \n",
    "* Defining new types\n",
    "\t* data\n",
    "\t* Value Parameters\n",
    "\t* Type Parameters\n",
    "\t* Record syntax\n",
    "\t* deriving\n",
    "\t* newType"
   ]
  },
  {
   "cell_type": "markdown",
   "metadata": {},
   "source": [
    "## Type Synonyms"
   ]
  },
  {
   "cell_type": "markdown",
   "metadata": {},
   "source": [
    "Early on, when learning about `Strings` in Haskell, you found out that `String` is syntactic sugar of `[Char]`. They're the same but easier to read."
   ]
  },
  {
   "cell_type": "markdown",
   "metadata": {},
   "source": [
    "That's because `String` is a type synonym for `[Char]`."
   ]
  },
  {
   "cell_type": "markdown",
   "metadata": {},
   "source": [
    "This means that `String` and `[Char]` are *equivalent* and you can use them *interchangeably*."
   ]
  },
  {
   "cell_type": "markdown",
   "metadata": {},
   "source": [
    "### How to define Type Synonyms"
   ]
  },
  {
   "cell_type": "markdown",
   "metadata": {},
   "source": [
    "```haskell\n",
    "type String = [Char]\n",
    "```"
   ]
  },
  {
   "cell_type": "markdown",
   "metadata": {},
   "source": [
    "* The `type` keyword defines a type synonym.\n",
    "* You can name the type synonym however you want, as long as it starts with a capital letter."
   ]
  },
  {
   "cell_type": "markdown",
   "metadata": {},
   "source": [
    "**When you define a type synonym, you're not creating a new type! You're telling Haskell that an existing type can be referred with a different name (a synonym)!**"
   ]
  },
  {
   "cell_type": "markdown",
   "metadata": {},
   "source": [
    "### Why use Type Synonyms\n",
    "\n",
    "Why would you add more complexity without adding more functionality?"
   ]
  },
  {
   "cell_type": "markdown",
   "metadata": {},
   "source": [
    "Because type synonyms allow us to convey more information! Let's see an example."
   ]
  },
  {
   "cell_type": "markdown",
   "metadata": {},
   "source": [
    "Imagine you started working with a library that allows you to create monetary transactions.\n",
    "\n",
    "You want to create a new transaction, so you take a look at the type signature of the function that you need to use:\n",
    "\n",
    "```haskell\n",
    "generateTx :: String -> String -> Int -> String \n",
    "```"
   ]
  },
  {
   "cell_type": "markdown",
   "metadata": {},
   "source": [
    "Not an extremely useful signature. You could infer that the Int is the value to transfer, but what are those Strings? And what does that String that it returns contain?"
   ]
  },
  {
   "cell_type": "markdown",
   "metadata": {},
   "source": [
    "Now, compare this type signature:\n",
    "\n",
    "```haskell\n",
    "generateTx :: String -> String -> Int -> String \n",
    "```"
   ]
  },
  {
   "cell_type": "markdown",
   "metadata": {},
   "source": [
    "Whith this one:\n",
    "\n",
    "```haskell\n",
    "generateTx :: Address -> Address -> Value -> Id\n",
    "```"
   ]
  },
  {
   "cell_type": "markdown",
   "metadata": {},
   "source": [
    "Clearly, the second signature transmits the context way better!\n",
    "The first two parameters are addresses, and the third one is the value of the transaction. Finally, we know that it returns the id of the transaction. \n",
    "\n",
    "All that just from the type signature. The difference? Just a few type synonyms."
   ]
  },
  {
   "cell_type": "markdown",
   "metadata": {},
   "source": [
    "And what did we do to improve the context so much? Let's see:"
   ]
  },
  {
   "cell_type": "markdown",
   "metadata": {},
   "source": [
    "Let's recreate the function called `generateTx` that will take the addresses and value of a transaction and generates a id for it:"
   ]
  },
  {
   "cell_type": "code",
   "execution_count": null,
   "metadata": {
    "vscode": {
     "languageId": "plaintext"
    }
   },
   "outputs": [],
   "source": [
    "generateTxHash :: String -> String -> Int -> String \n",
    "generateTxHash from to value = from ++ to ++ show value"
   ]
  },
  {
   "cell_type": "markdown",
   "metadata": {},
   "source": [
    "Now, we just need to add some type synonyms:"
   ]
  },
  {
   "cell_type": "code",
   "execution_count": null,
   "metadata": {
    "vscode": {
     "languageId": "plaintext"
    }
   },
   "outputs": [],
   "source": [
    "type Address = String\n",
    "type Value = Int\n",
    "type Id = String\n",
    "\n",
    "generateTx :: Address -> Address -> Value -> Id\n",
    "generateTx from to value = from ++ to ++ show value"
   ]
  },
  {
   "cell_type": "markdown",
   "metadata": {},
   "source": [
    "Finally, if you want to check what does the `Address`, `Value`, or `Id` types are, you can open GHCi, load the file and check its info:"
   ]
  },
  {
   "cell_type": "code",
   "execution_count": null,
   "metadata": {
    "vscode": {
     "languageId": "plaintext"
    }
   },
   "outputs": [],
   "source": [
    ":i Address \n",
    ":i Value\n",
    ":i Id"
   ]
  },
  {
   "cell_type": "markdown",
   "metadata": {},
   "source": [
    "Another example:"
   ]
  },
  {
   "cell_type": "code",
   "execution_count": null,
   "metadata": {
    "vscode": {
     "languageId": "plaintext"
    }
   },
   "outputs": [],
   "source": [
    "type Name = String\n",
    "type Address = (String, Int)\n",
    "type Person = (Name, Address)\n",
    "\n",
    "bob = (\"Bob Smith\", (\"Main St.\", 555)) :: Person\n",
    ":t bob\n",
    ":t fst bob"
   ]
  },
  {
   "cell_type": "markdown",
   "metadata": {},
   "source": [
    "But what if we need a more flexible type?"
   ]
  },
  {
   "cell_type": "markdown",
   "metadata": {},
   "source": [
    "In that case, we can use parameterized type synonyms!"
   ]
  },
  {
   "cell_type": "markdown",
   "metadata": {},
   "source": [
    "### Paremeterizing Type Synonyms"
   ]
  },
  {
   "cell_type": "markdown",
   "metadata": {},
   "source": [
    "Imagine that after using our recently created Person type synonym, we find out that we also have to identify companies.\n",
    "\n",
    "We could do something like:"
   ]
  },
  {
   "cell_type": "code",
   "execution_count": null,
   "metadata": {
    "vscode": {
     "languageId": "plaintext"
    }
   },
   "outputs": [],
   "source": [
    "type Name = String\n",
    "type Address = (String, Int)\n",
    "type Person = (Name , Address)\n",
    "\n",
    "type CompanyId = Int\n",
    "type Company = (CompanyId, Address)\n",
    "\n",
    "bob = (\"Bob Smith\", (\"Main St.\", 555)) :: Person\n",
    "io = (\"Input|Output\", (\"Cardano St.\", 999)) :: Company"
   ]
  },
  {
   "cell_type": "markdown",
   "metadata": {},
   "source": [
    "But if we do that, we repeat a lot of code and each time we need to add a new entity. A better aproach would be to define a parametric type synonym."
   ]
  },
  {
   "cell_type": "markdown",
   "metadata": {},
   "source": [
    "We add a parameter to the type synonym definition—same as with functions—and we can create different types for different situations!:"
   ]
  },
  {
   "cell_type": "code",
   "execution_count": null,
   "metadata": {
    "vscode": {
     "languageId": "plaintext"
    }
   },
   "outputs": [],
   "source": [
    "type Name = String\n",
    "type Address = (String, Int)\n",
    "type CompanyId = Int\n",
    "\n",
    "type Entity a = (a, Address)\n",
    "\n",
    "bob = (\"Bob Smith\", (\"Main St.\", 555)) :: Entity Name \n",
    "io = (584264, (\"Cardano St.\", 999)) :: Entity CompanyId"
   ]
  },
  {
   "cell_type": "markdown",
   "metadata": {},
   "source": [
    "Notice that `Entity Name` and `Entity CompanyId` are completely different types! The same as `Int` and `Bool` are different."
   ]
  },
  {
   "cell_type": "markdown",
   "metadata": {},
   "source": [
    "Having type synonyms it's cool and all, but they are just different names for the same thing. What if we need to create a brand new type? `data` to the rescue!"
   ]
  },
  {
   "cell_type": "markdown",
   "metadata": {},
   "source": [
    "## Defining new types"
   ]
  },
  {
   "cell_type": "markdown",
   "metadata": {},
   "source": [
    "### `data` keyword"
   ]
  },
  {
   "cell_type": "markdown",
   "metadata": {},
   "source": [
    "We can create new types using the data keyword like this:"
   ]
  },
  {
   "cell_type": "code",
   "execution_count": null,
   "metadata": {
    "vscode": {
     "languageId": "plaintext"
    }
   },
   "outputs": [],
   "source": [
    "data PaymentMethod = Cash | Card | Cryptocurrency\n",
    "\n",
    "data Color = Red | Blue | Green\n",
    "\n",
    "data Bool = True | False"
   ]
  },
  {
   "cell_type": "markdown",
   "metadata": {},
   "source": [
    "* The part before the equal sign is our new type name."
   ]
  },
  {
   "cell_type": "markdown",
   "metadata": {},
   "source": [
    "* The part after the equal sign are value constructors. Value constructors specify the different values that the type can have."
   ]
  },
  {
   "cell_type": "markdown",
   "metadata": {},
   "source": [
    "* The `|` is read as \"or\". So we can read the firs type as:\n",
    "\n",
    "\t\tThe type `PaymentMethod` can have a value of `Cash`, `Card`, or `Cryptocurrency`."
   ]
  },
  {
   "cell_type": "markdown",
   "metadata": {},
   "source": [
    "<div class=\"alert alert-block alert-warning\">\n",
    "<b>Warning:</b> The type name and the value constructors must start with an uppercase letter!\n",
    "</div>"
   ]
  },
  {
   "cell_type": "markdown",
   "metadata": {},
   "source": [
    "**And now, how can we use a new type?**"
   ]
  },
  {
   "cell_type": "markdown",
   "metadata": {},
   "source": [
    "**By using its values!** For example, lets add a payment method to our entities:"
   ]
  },
  {
   "cell_type": "code",
   "execution_count": null,
   "metadata": {
    "vscode": {
     "languageId": "plaintext"
    }
   },
   "outputs": [],
   "source": [
    "type Name = String\n",
    "type Address = (String, Int)\n",
    "type CompanyId = Int\n",
    "\n",
    "data PaymentMethod = Cash | Card | Cryptocurrency\n",
    "\n",
    "type Entity a = (a, Address, PaymentMethod)\n",
    "\n",
    "bob = (\"Bob Smith\", (\"Main St.\", 555), Cash) :: Entity Name \n",
    "io = (584264, (\"Cardano St.\", 999), Cryptocurrency) :: Entity CompanyId"
   ]
  },
  {
   "cell_type": "markdown",
   "metadata": {},
   "source": [
    "Now we can use the `PaymentMethod` type however we want:"
   ]
  },
  {
   "cell_type": "code",
   "execution_count": null,
   "metadata": {
    "vscode": {
     "languageId": "plaintext"
    }
   },
   "outputs": [],
   "source": [
    "howItPays :: Entity a -> String\n",
    "howItPays (_, _, Cash) = \"Pays in cash\" -- Pattern matching Entity and ignoring everything except the PaymentMethod\n",
    "howItPays (_, _, Card) = \"Pays with card\"\n",
    "howItPays (_, _, Cryptocurrency) = \"Pays with cryptocurrency\"\n",
    "\n",
    "howItPays bob\n",
    "howItPays io"
   ]
  },
  {
   "cell_type": "markdown",
   "metadata": {},
   "source": [
    "But this generates a question. What can we do if we need more than a few values?\n",
    "\n",
    "What if, for example, I want a type to represent a shape that could be any circle or any rectangle?"
   ]
  },
  {
   "cell_type": "markdown",
   "metadata": {},
   "source": [
    "We can start by defining something like:"
   ]
  },
  {
   "cell_type": "code",
   "execution_count": null,
   "metadata": {
    "vscode": {
     "languageId": "plaintext"
    }
   },
   "outputs": [],
   "source": [
    "data Shape = Circle | Rectangle"
   ]
  },
  {
   "cell_type": "markdown",
   "metadata": {},
   "source": [
    "But the thing is, this isn't of much use. I want to be able to do stuff with these values, like calculating perimeters and areas.\n",
    "\n",
    "No problem at all! We can just add some parameters to the values!"
   ]
  },
  {
   "cell_type": "markdown",
   "metadata": {},
   "source": [
    "### Value Parameters\n",
    "\n",
    "Let's add some parameters:\n",
    "* To define a circle, we need its radius. So just one numeric value.\n",
    "* To define a rectangle, we need the length of its two sides. So two numeric values."
   ]
  },
  {
   "cell_type": "markdown",
   "metadata": {},
   "source": [
    "Let's translate those requirements to code!:"
   ]
  },
  {
   "cell_type": "code",
   "execution_count": null,
   "metadata": {
    "vscode": {
     "languageId": "plaintext"
    }
   },
   "outputs": [],
   "source": [
    "\n",
    "data Shape = Circle Float | Rectangle Float Float\n",
    "\n",
    ":t Circle\n",
    ":t Rectangle"
   ]
  },
  {
   "cell_type": "markdown",
   "metadata": {},
   "source": [
    "As you can see, if we check the type of the `Circle` constructor, we see that it's actually a function!!\n",
    "\n",
    "A function that takes a value of type `Float` and returns a value of type `Shape`! So, to obtain our circle of type `Shape`, all we have to do is pass its radius:"
   ]
  },
  {
   "cell_type": "code",
   "execution_count": null,
   "metadata": {
    "vscode": {
     "languageId": "plaintext"
    }
   },
   "outputs": [],
   "source": [
    "smallCircle = Circle 10\n",
    "\n",
    "hugeCircle = Circle 1000"
   ]
  },
  {
   "cell_type": "markdown",
   "metadata": {},
   "source": [
    "Same for `Rectangle` values. \n",
    "\n",
    "`Rectangle` is a function that takes two values of type `Float` and returns a value of type `Shape`. So, to obtain a rectangle of type `Shape`, all we have to do is pass the lengths of its sides:"
   ]
  },
  {
   "cell_type": "code",
   "execution_count": null,
   "metadata": {
    "vscode": {
     "languageId": "plaintext"
    }
   },
   "outputs": [],
   "source": [
    "rect1 = Rectangle 10 5\n",
    "\n",
    "rect2 = Rectangle 256 128"
   ]
  },
  {
   "cell_type": "markdown",
   "metadata": {},
   "source": [
    "<div class=\"alert alert-block alert-warning\">\n",
    "<b>Warning:</b>\n",
    "<p>\n",
    "If you play around with creating new types and you get the error:\n",
    " </p>\n",
    "\n",
    "```\n",
    "Error: No instance for (Show Shape) arising from a use of print.\n",
    "```\n",
    "\n",
    "<p>\n",
    "Just add <code>deriving (Show)</code> at the end of the type definition like this:\n",
    "</p>\n",
    "\n",
    "```haskell\n",
    "data Shape = Circle Float | Rectangle Float Float deriving (Show)\n",
    "```\n",
    "\n",
    "<p>\n",
    "We'll explain what is this at the end of this lesson.\n",
    "</p>\n",
    "</div>"
   ]
  },
  {
   "cell_type": "markdown",
   "metadata": {},
   "source": [
    "We created our new type, and created some values. Now let's use them!"
   ]
  },
  {
   "cell_type": "markdown",
   "metadata": {},
   "source": [
    "We can define a function that calculates the area of any value of type `Shape` like this:"
   ]
  },
  {
   "cell_type": "code",
   "execution_count": null,
   "metadata": {
    "vscode": {
     "languageId": "plaintext"
    }
   },
   "outputs": [],
   "source": [
    "area :: Shape -> Float\n",
    "area (Circle r) = pi * r^2        -- We pattern match on value constructors and bind its fields to names.\n",
    "area (Rectangle l1 l2) = l1 * l2\n",
    "\n",
    "\n",
    "area smallCircle\n",
    "area rect2"
   ]
  },
  {
   "cell_type": "markdown",
   "metadata": {},
   "source": [
    "Now we're talking! We just created a useful type!\n",
    "\n",
    "But that's not all! We can also create parametric types!"
   ]
  },
  {
   "cell_type": "markdown",
   "metadata": {},
   "source": [
    "### Parameterizing new types"
   ]
  },
  {
   "cell_type": "markdown",
   "metadata": {},
   "source": []
  },
  {
   "cell_type": "markdown",
   "metadata": {},
   "source": [
    "### Record Syntax"
   ]
  },
  {
   "cell_type": "markdown",
   "metadata": {},
   "source": [
    "### Deriving"
   ]
  },
  {
   "cell_type": "markdown",
   "metadata": {},
   "source": [
    "### `newType` keyword"
   ]
  },
  {
   "cell_type": "markdown",
   "metadata": {},
   "source": []
  }
 ],
 "metadata": {
  "language_info": {
   "name": "python"
  },
  "orig_nbformat": 4
 },
 "nbformat": 4,
 "nbformat_minor": 2
}
