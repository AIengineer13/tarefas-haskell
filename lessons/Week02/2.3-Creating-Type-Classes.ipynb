{
 "cells": [
  {
   "cell_type": "markdown",
   "metadata": {},
   "source": [
    "# Creating Type Classes and Instances"
   ]
  },
  {
   "cell_type": "markdown",
   "metadata": {},
   "source": [
    "## Outline\n",
    "\n",
    "* Revisiting Type Classes\n",
    "* Exploring pre-existent type Classes\n",
    "\t* The `Eq` type class\n",
    "\t* The `Num` type class\n",
    "* Deriving\n",
    "* Type Classes\n",
    "\t* Classees\n",
    "\t* Instances\n",
    "\t* Subclass\n",
    "\t* Complete example ?\n"
   ]
  },
  {
   "cell_type": "markdown",
   "metadata": {},
   "source": [
    "In this lesson, first, we'll do a quick recap of type classes, learn how to create them from scratch, and how to use them."
   ]
  },
  {
   "cell_type": "markdown",
   "metadata": {},
   "source": [
    "## Revisiting Type Classes"
   ]
  },
  {
   "cell_type": "markdown",
   "metadata": {},
   "source": [
    "* Type classes are interfaces that define some behavior. (For example, comparing for equality.)"
   ]
  },
  {
   "cell_type": "markdown",
   "metadata": {},
   "source": [
    "* If a type is an instance of a type class, it supports the behaviors of that type class. Meaning that we can use the functions the type class defines."
   ]
  },
  {
   "cell_type": "markdown",
   "metadata": {},
   "source": [
    "* A type class can have multiple instances, and a type can belong to multiple type classes."
   ]
  },
  {
   "cell_type": "markdown",
   "metadata": {},
   "source": [
    "## Exploring pre-existent type classes"
   ]
  },
  {
   "cell_type": "markdown",
   "metadata": {},
   "source": [
    "### Defining the `Eq` type class"
   ]
  },
  {
   "cell_type": "markdown",
   "metadata": {},
   "source": [
    "Remember that the `Eq` type class is all about equality. The types that are instances of the `Eq` type class can say if two values of its type are equal or different by using the `==` (equal) and `/=` (not equal) functions."
   ]
  },
  {
   "cell_type": "markdown",
   "metadata": {},
   "source": [
    "But how do we define the `Eq` class? We can do it ike this:"
   ]
  },
  {
   "cell_type": "markdown",
   "metadata": {},
   "source": [
    "```haskell\n",
    "class Eq a where\n",
    "  (==) :: a -> a -> Bool\n",
    "  (/=) :: a -> a -> Bool\n",
    "```"
   ]
  },
  {
   "cell_type": "markdown",
   "metadata": {},
   "source": [
    "* `class ... where` means that we're defining a new type class.\n",
    "* `Eq` is how type class will be called.\n",
    "* The `a` inside `Eq a` is the type variable that holds the place to the type that will be made an instance of this type class.\n",
    "* Then, we define the functions of the type class (`==` and `/=`)."
   ]
  },
  {
   "cell_type": "markdown",
   "metadata": {},
   "source": [
    "But wait.. the functions aren't implemented!"
   ]
  },
  {
   "cell_type": "markdown",
   "metadata": {},
   "source": [
    "That's because, you can do it, but there's no **need** to actually implement the functions in the type class. **Only the type delcarations are required!**"
   ]
  },
  {
   "cell_type": "markdown",
   "metadata": {},
   "source": [
    "Now that we have a type class, let's use it! "
   ]
  },
  {
   "cell_type": "markdown",
   "metadata": {},
   "source": []
  },
  {
   "cell_type": "markdown",
   "metadata": {},
   "source": [
    "### Defining an instance for the `Eq` type class"
   ]
  },
  {
   "cell_type": "markdown",
   "metadata": {},
   "source": [
    "Let's define a type for the payment methods a customer can use:"
   ]
  },
  {
   "cell_type": "code",
   "execution_count": null,
   "metadata": {
    "vscode": {
     "languageId": "plaintext"
    }
   },
   "outputs": [],
   "source": [
    "data PaymentMethod = Cash | Card | CC -- CC stands for Cryptocurrency"
   ]
  },
  {
   "cell_type": "markdown",
   "metadata": {},
   "source": [
    "Now, lets make `PaymentMethod` an instance of `Eq`, so we can check its values for equality."
   ]
  },
  {
   "cell_type": "code",
   "execution_count": null,
   "metadata": {
    "vscode": {
     "languageId": "plaintext"
    }
   },
   "outputs": [],
   "source": [
    "instance Eq PaymentMethod where\n",
    "  -- Implementation of ==\n",
    "  Cash == Cash = True\n",
    "  Card == Card = True\n",
    "  CC == CC = True\n",
    "  _ == _ = False\n",
    "  \n",
    "  -- Implementation of /=\n",
    "  Cash /= Cash = False\n",
    "  Card /= Card = False\n",
    "  CC /= CC = False\n",
    "  _ /= _ = True"
   ]
  },
  {
   "cell_type": "markdown",
   "metadata": {},
   "source": [
    "* `instance ... where` means that we're making some type an instance of a type class\n",
    "* `Eq PaymentMethod` means that `PaymentMethod` is the type that will be come an instance of `Eq` type class. \n",
    "* Then, we implement the functions of the type class (`==` and `/=`) for our specific type."
   ]
  },
  {
   "cell_type": "markdown",
   "metadata": {},
   "source": [
    "As you can see, because now we're creating an instance for a type, we replace the type variable (`a`) that we had in the type class definition for that specific type (`PaymentMethod`)."
   ]
  },
  {
   "cell_type": "markdown",
   "metadata": {},
   "source": [
    "And that's it! That's how you define a type class and how you make a type an instance of it! Now, `PaymentMethod` can freely use the `Eq` behaviours (`==` and `/=`):"
   ]
  },
  {
   "cell_type": "code",
   "execution_count": null,
   "metadata": {
    "vscode": {
     "languageId": "plaintext"
    }
   },
   "outputs": [],
   "source": [
    "Card == Cash\n",
    "CC /= Card"
   ]
  },
  {
   "cell_type": "markdown",
   "metadata": {},
   "source": [
    "But here's the thing. We're on our way to become epic Haskell developers, and epic Haskell developers can do better than that."
   ]
  },
  {
   "cell_type": "markdown",
   "metadata": {},
   "source": [
    "### Improving our `Eq` type class"
   ]
  },
  {
   "cell_type": "markdown",
   "metadata": {},
   "source": [
    "With our `Eq` type class defined like that, each time we need to make a type an instance of `Eq`, we have to define both `==` and `/=`. But we know that we can also define functions inside the type class definition, and we know that for each pair of values, `==` and `/=` give use the opposite `Bool` value. "
   ]
  },
  {
   "cell_type": "markdown",
   "metadata": {},
   "source": [
    "So, taking into account the relationship between `==` and `/=`, we can redefine `Eq` type class like this:"
   ]
  },
  {
   "cell_type": "markdown",
   "metadata": {},
   "source": [
    "```haskell\n",
    "class  Eq a  where\n",
    "    (==), (/=)  :: a -> a -> Bool\n",
    "    x /= y      = not (x == y)\n",
    "    x == y      = not (x /= y)\n",
    "```"
   ]
  },
  {
   "cell_type": "markdown",
   "metadata": {},
   "source": [
    "Which is how `Eq` is actually defined in the standard library!"
   ]
  },
  {
   "cell_type": "markdown",
   "metadata": {},
   "source": [
    "By defining `==` and `/=` as the oposite of the other one (mutual recursion), now Haskell can infer the behavior of one from the other. And each time we make a type an instance of the `Eq` type class, we just need to overwrite (implement) one of them! Like this:"
   ]
  },
  {
   "cell_type": "code",
   "execution_count": null,
   "metadata": {
    "vscode": {
     "languageId": "plaintext"
    }
   },
   "outputs": [],
   "source": [
    "instance Eq PaymentMethod where\n",
    "  Cash == Cash = True\n",
    "  Card == Card = True\n",
    "  CC == CC = True\n",
    "  _ == _ = False"
   ]
  },
  {
   "cell_type": "markdown",
   "metadata": {},
   "source": [
    "And the type can use both `==` and `/=` no questions asked!"
   ]
  },
  {
   "cell_type": "markdown",
   "metadata": {},
   "source": [
    "This is called **minimal complete definition**. "
   ]
  },
  {
   "cell_type": "markdown",
   "metadata": {},
   "source": [
    "You can take advantage of this by checking what's the minimal complete definition of a type class using `:i <type class>` and implementing only those behaviors. If you do `:i Eq`, you'll get:\n",
    "\n",
    "```haskell\n",
    "type Eq :: * -> Constraint -- Eq takes a concrete type and  returns a Constraint\n",
    "class Eq a where\n",
    "  (==) :: a -> a -> Bool\n",
    "  (/=) :: a -> a -> Bool\n",
    "  {-# MINIMAL (==) | (/=) #-}\n",
    "  \t-- Defined in ‘GHC.Classes’\n",
    "\n",
    "-- ... and a bunch of instances.\n",
    "```"
   ]
  },
  {
   "cell_type": "markdown",
   "metadata": {},
   "source": [
    "In this line:\n",
    "\n",
    "```haskell\n",
    "{-# MINIMAL (==) | (/=) #-}\n",
    "```\n",
    "\n",
    "It says that to have the *minimal complete implementation* of the class, you have to implement either `==` OR `/=`."
   ]
  },
  {
   "cell_type": "code",
   "execution_count": null,
   "metadata": {
    "vscode": {
     "languageId": "plaintext"
    }
   },
   "outputs": [],
   "source": [
    "-- Check by yourself!\n",
    ":i Eq"
   ]
  },
  {
   "cell_type": "markdown",
   "metadata": {},
   "source": [
    "## Deriving"
   ]
  },
  {
   "cell_type": "markdown",
   "metadata": {},
   "source": [
    "Deriving can go wrong (see: https://www.youtube.com/watch?v=1txgSlcpQmo)"
   ]
  },
  {
   "cell_type": "markdown",
   "metadata": {},
   "source": [
    "---"
   ]
  },
  {
   "cell_type": "markdown",
   "metadata": {},
   "source": [
    "And that makes sense! Try to come up with a single implementation that works with every type.\n",
    "\n",
    "A single implementation of `==` that works for `Int`, `Char`, lists, etc.\n",
    "\n",
    "Different types need different implementations"
   ]
  },
  {
   "cell_type": "markdown",
   "metadata": {},
   "source": [
    "Where do we implement the functions then? Well, we can implement them them at the type class itself, at the instances, or a combination of both. As an example, I'll show you how the real way of how the `Eq` type class is defined in Haskell (Yes, I just lied to you):"
   ]
  },
  {
   "cell_type": "markdown",
   "metadata": {},
   "source": [
    "How `Eq` is actually defined in the standard library (minus details):\n",
    "\n",
    "```haskell\n",
    "class  Eq a  where\n",
    "    (==), (/=)           :: a -> a -> Bool\n",
    "    x /= y               = not (x == y)\n",
    "    x == y               = not (x /= y)\n",
    "```"
   ]
  },
  {
   "cell_type": "markdown",
   "metadata": {},
   "source": [
    "As you can see, we can define multiple functions with the same type declaration in a single line. But more importantly, we just implemented both `==` and `/=`!"
   ]
  }
 ],
 "metadata": {
  "language_info": {
   "name": "python"
  },
  "orig_nbformat": 4
 },
 "nbformat": 4,
 "nbformat_minor": 2
}
