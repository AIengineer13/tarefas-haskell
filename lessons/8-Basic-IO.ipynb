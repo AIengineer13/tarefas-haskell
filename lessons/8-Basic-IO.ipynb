{
 "cells": [
  {
   "cell_type": "markdown",
   "metadata": {},
   "source": [
    "# Basic I/O"
   ]
  },
  {
   "cell_type": "markdown",
   "metadata": {},
   "source": [
    "## Outline\n",
    "\n",
    "* Intro to impure functions\n",
    "* Basic IO actions\n",
    "* Composing IO actions\n",
    "* The do block\n",
    "* Recap\n",
    "\n",
    "In this section we will introduce the concepts of IO actions. We will begin with introducing these functions and then construct an intuative but cumbersome way of composing these function. Then we will introduce a more programmer friendly way of composing them that hides this awkward construction. At the end we will recap the import concepts."
   ]
  },
  {
   "cell_type": "markdown",
   "metadata": {},
   "source": [
    "## Intro to impure functions\n",
    "Haskell is a purely functional language. This means that for every function **only** the arguments determine what the outcome will be, it does not change any state. But this is quite a narrow scope for a program. In the real world we want application to process data from the outside and provide results back to the outside world, it is interactive and should change state outside the scope of the program.\n",
    "\n",
    "The interactions and changes to state outside this scope are called **side effects**. Say we have a function that fetches the time and logs it into a file. Each time we call this function we give it no inputs and get no outputs back, we only observe the side effect of the file that is changed. This function is thus **impure**. As a recap\n",
    "\n",
    "| Pure | Impure |\n",
    "| --- | --- |\n",
    "| Always produces the same result when given the same parameter | May produce different results for the same parameter |\n",
    "| Never has side effect | May have side effects |\n",
    "| Never alters state | May alter the global state of the program, system, or world |"
   ]
  },
  {
   "cell_type": "markdown",
   "metadata": {},
   "source": [
    "## Basic IO actions"
   ]
  },
  {
   "cell_type": "markdown",
   "metadata": {},
   "source": [
    "Haskell strictly seperates pure code from the impure world. But we would still like our programs to alter the world outside of our program, it does this via **IO actions** denoted by `IO a`. All these impure function include a type that is marked with the `IO` wrapper followed by some type `a`. This marks that it first performs some computation with possibly side effect and then return something of type `a`."
   ]
  },
  {
   "cell_type": "markdown",
   "metadata": {},
   "source": [
    "As a first example we have the `putStrLn` function which has as input the string `\"Hello World\"` and output type `()`. Together the resulting type is of type `IO ()`. The `()` type is the empty tuple, since it has zero elements it can only be one thing, namely nothing."
   ]
  },
  {
   "cell_type": "code",
   "execution_count": 2,
   "metadata": {},
   "outputs": [
    {
     "data": {
      "text/html": [
       "<style>/* Styles used for the Hoogle display in the pager */\n",
       ".hoogle-doc {\n",
       "display: block;\n",
       "padding-bottom: 1.3em;\n",
       "padding-left: 0.4em;\n",
       "}\n",
       ".hoogle-code {\n",
       "display: block;\n",
       "font-family: monospace;\n",
       "white-space: pre;\n",
       "}\n",
       ".hoogle-text {\n",
       "display: block;\n",
       "}\n",
       ".hoogle-name {\n",
       "color: green;\n",
       "font-weight: bold;\n",
       "}\n",
       ".hoogle-head {\n",
       "font-weight: bold;\n",
       "}\n",
       ".hoogle-sub {\n",
       "display: block;\n",
       "margin-left: 0.4em;\n",
       "}\n",
       ".hoogle-package {\n",
       "font-weight: bold;\n",
       "font-style: italic;\n",
       "}\n",
       ".hoogle-module {\n",
       "font-weight: bold;\n",
       "}\n",
       ".hoogle-class {\n",
       "font-weight: bold;\n",
       "}\n",
       ".get-type {\n",
       "color: green;\n",
       "font-weight: bold;\n",
       "font-family: monospace;\n",
       "display: block;\n",
       "white-space: pre-wrap;\n",
       "}\n",
       ".show-type {\n",
       "color: green;\n",
       "font-weight: bold;\n",
       "font-family: monospace;\n",
       "margin-left: 1em;\n",
       "}\n",
       ".mono {\n",
       "font-family: monospace;\n",
       "display: block;\n",
       "}\n",
       ".err-msg {\n",
       "color: red;\n",
       "font-style: italic;\n",
       "font-family: monospace;\n",
       "white-space: pre;\n",
       "display: block;\n",
       "}\n",
       "#unshowable {\n",
       "color: red;\n",
       "font-weight: bold;\n",
       "}\n",
       ".err-msg.in.collapse {\n",
       "padding-top: 0.7em;\n",
       "}\n",
       ".highlight-code {\n",
       "white-space: pre;\n",
       "font-family: monospace;\n",
       "}\n",
       ".suggestion-warning { \n",
       "font-weight: bold;\n",
       "color: rgb(200, 130, 0);\n",
       "}\n",
       ".suggestion-error { \n",
       "font-weight: bold;\n",
       "color: red;\n",
       "}\n",
       ".suggestion-name {\n",
       "font-weight: bold;\n",
       "}\n",
       "</style><span class='get-type'>putStrLn :: String -> IO ()</span>"
      ],
      "text/plain": [
       "putStrLn :: String -> IO ()"
      ]
     },
     "metadata": {},
     "output_type": "display_data"
    },
    {
     "data": {
      "text/plain": [
       "Hello World"
      ]
     },
     "metadata": {},
     "output_type": "display_data"
    }
   ],
   "source": [
    ":t putStrLn --(takes some string and writes it to StdOut)\n",
    "\n",
    "-- An IO action that perform the action of printing \"Hello World\".\n",
    "main :: IO ()\n",
    "main = putStrLn \"Hello World\"\n",
    "main"
   ]
  },
  {
   "cell_type": "markdown",
   "metadata": {},
   "source": [
    "Note that these `IO a` wrapped function are still functions and can thus be composed with other functions, just keep in mind that the type signatures you are using are correct. Now since a combination of an impure function and a pure function still has side effects the composed function also is a impure function and thus uses the wrapped marked `IO`. We thus conclude that we can **never** escape the `IO` wrapper once we used it."
   ]
  },
  {
   "cell_type": "code",
   "execution_count": 8,
   "metadata": {},
   "outputs": [
    {
     "data": {
      "text/plain": [
       "Hello John"
      ]
     },
     "metadata": {},
     "output_type": "display_data"
    }
   ],
   "source": [
    "-- A pure function that prepends the string \"Hello \" to another string\n",
    "addHello :: String -> String\n",
    "addHello string = \"Hello \" ++ string\n",
    "\n",
    "-- Using the putStrLn function in the definition of an IO action.\n",
    "newPutStrLn :: String -> IO ()\n",
    "newPutStrLn name = putStrLn (addHello name)\n",
    "newPutStrLn \"John\""
   ]
  },
  {
   "cell_type": "markdown",
   "metadata": {},
   "source": [
    "Another example that requires no inputs but fetches the time as a side effect is the function`getCurrentTime` in the module `Data.Time.Clock`."
   ]
  },
  {
   "cell_type": "code",
   "execution_count": 1,
   "metadata": {},
   "outputs": [
    {
     "data": {
      "text/html": [
       "<style>/* Styles used for the Hoogle display in the pager */\n",
       ".hoogle-doc {\n",
       "display: block;\n",
       "padding-bottom: 1.3em;\n",
       "padding-left: 0.4em;\n",
       "}\n",
       ".hoogle-code {\n",
       "display: block;\n",
       "font-family: monospace;\n",
       "white-space: pre;\n",
       "}\n",
       ".hoogle-text {\n",
       "display: block;\n",
       "}\n",
       ".hoogle-name {\n",
       "color: green;\n",
       "font-weight: bold;\n",
       "}\n",
       ".hoogle-head {\n",
       "font-weight: bold;\n",
       "}\n",
       ".hoogle-sub {\n",
       "display: block;\n",
       "margin-left: 0.4em;\n",
       "}\n",
       ".hoogle-package {\n",
       "font-weight: bold;\n",
       "font-style: italic;\n",
       "}\n",
       ".hoogle-module {\n",
       "font-weight: bold;\n",
       "}\n",
       ".hoogle-class {\n",
       "font-weight: bold;\n",
       "}\n",
       ".get-type {\n",
       "color: green;\n",
       "font-weight: bold;\n",
       "font-family: monospace;\n",
       "display: block;\n",
       "white-space: pre-wrap;\n",
       "}\n",
       ".show-type {\n",
       "color: green;\n",
       "font-weight: bold;\n",
       "font-family: monospace;\n",
       "margin-left: 1em;\n",
       "}\n",
       ".mono {\n",
       "font-family: monospace;\n",
       "display: block;\n",
       "}\n",
       ".err-msg {\n",
       "color: red;\n",
       "font-style: italic;\n",
       "font-family: monospace;\n",
       "white-space: pre;\n",
       "display: block;\n",
       "}\n",
       "#unshowable {\n",
       "color: red;\n",
       "font-weight: bold;\n",
       "}\n",
       ".err-msg.in.collapse {\n",
       "padding-top: 0.7em;\n",
       "}\n",
       ".highlight-code {\n",
       "white-space: pre;\n",
       "font-family: monospace;\n",
       "}\n",
       ".suggestion-warning { \n",
       "font-weight: bold;\n",
       "color: rgb(200, 130, 0);\n",
       "}\n",
       ".suggestion-error { \n",
       "font-weight: bold;\n",
       "color: red;\n",
       "}\n",
       ".suggestion-name {\n",
       "font-weight: bold;\n",
       "}\n",
       "</style><span class='get-type'>getCurrentTime :: IO UTCTime</span>"
      ],
      "text/plain": [
       "getCurrentTime :: IO UTCTime"
      ]
     },
     "metadata": {},
     "output_type": "display_data"
    },
    {
     "data": {
      "text/plain": [
       "2022-06-17 17:34:10.542792817 UTC"
      ]
     },
     "metadata": {},
     "output_type": "display_data"
    }
   ],
   "source": [
    "import Data.Time.Clock (getCurrentTime) -- Importing some library for the getCurrentTime function\n",
    "\n",
    "-- Fetching the current time with an action and getting the type of this function\n",
    ":t getCurrentTime\n",
    "getCurrentTime"
   ]
  },
  {
   "cell_type": "code",
   "execution_count": 1,
   "metadata": {},
   "outputs": [
    {
     "data": {
      "text/html": [
       "<style>/* Styles used for the Hoogle display in the pager */\n",
       ".hoogle-doc {\n",
       "display: block;\n",
       "padding-bottom: 1.3em;\n",
       "padding-left: 0.4em;\n",
       "}\n",
       ".hoogle-code {\n",
       "display: block;\n",
       "font-family: monospace;\n",
       "white-space: pre;\n",
       "}\n",
       ".hoogle-text {\n",
       "display: block;\n",
       "}\n",
       ".hoogle-name {\n",
       "color: green;\n",
       "font-weight: bold;\n",
       "}\n",
       ".hoogle-head {\n",
       "font-weight: bold;\n",
       "}\n",
       ".hoogle-sub {\n",
       "display: block;\n",
       "margin-left: 0.4em;\n",
       "}\n",
       ".hoogle-package {\n",
       "font-weight: bold;\n",
       "font-style: italic;\n",
       "}\n",
       ".hoogle-module {\n",
       "font-weight: bold;\n",
       "}\n",
       ".hoogle-class {\n",
       "font-weight: bold;\n",
       "}\n",
       ".get-type {\n",
       "color: green;\n",
       "font-weight: bold;\n",
       "font-family: monospace;\n",
       "display: block;\n",
       "white-space: pre-wrap;\n",
       "}\n",
       ".show-type {\n",
       "color: green;\n",
       "font-weight: bold;\n",
       "font-family: monospace;\n",
       "margin-left: 1em;\n",
       "}\n",
       ".mono {\n",
       "font-family: monospace;\n",
       "display: block;\n",
       "}\n",
       ".err-msg {\n",
       "color: red;\n",
       "font-style: italic;\n",
       "font-family: monospace;\n",
       "white-space: pre;\n",
       "display: block;\n",
       "}\n",
       "#unshowable {\n",
       "color: red;\n",
       "font-weight: bold;\n",
       "}\n",
       ".err-msg.in.collapse {\n",
       "padding-top: 0.7em;\n",
       "}\n",
       ".highlight-code {\n",
       "white-space: pre;\n",
       "font-family: monospace;\n",
       "}\n",
       ".suggestion-warning { \n",
       "font-weight: bold;\n",
       "color: rgb(200, 130, 0);\n",
       "}\n",
       ".suggestion-error { \n",
       "font-weight: bold;\n",
       "color: red;\n",
       "}\n",
       ".suggestion-name {\n",
       "font-weight: bold;\n",
       "}\n",
       "</style><span class='get-type'>listDirectory :: FilePath -> IO [FilePath]</span>"
      ],
      "text/plain": [
       "listDirectory :: FilePath -> IO [FilePath]"
      ]
     },
     "metadata": {},
     "output_type": "display_data"
    },
    {
     "data": {
      "text/plain": [
       "[\"2.2-Creating-Types.ipynb\",\"2.3-Creating-Type-Classes.ipynb\",\"2.1-Intro-to-Type-Classes.ipynb\",\"2.4-Basic-IO(2)(3).ipynb\",\".ipynb_checkpoints\"]"
      ]
     },
     "metadata": {},
     "output_type": "display_data"
    }
   ],
   "source": [
    "import System.Directory (listDirectory) -- Importing some library for the listDirectory function\n",
    "\n",
    "-- this IO action will list the content of the directory it is given in a list. The \".\" input refers to the current jupyter working directory (week02)\n",
    ":t listDirectory\n",
    "listDirectory \".\""
   ]
  },
  {
   "cell_type": "markdown",
   "metadata": {},
   "source": [
    "## Composing IO actions\n",
    "Now that we can use actions to do usefull side effects outside of our program we would like to be able to compose two actions, just like with pure functions. This should not be hard, just use another `IO a` as an input as before to get a function of type `IO a -> IO b`. But there is a problem with this construction, this is highlighted in the below example."
   ]
  },
  {
   "cell_type": "code",
   "execution_count": 76,
   "metadata": {},
   "outputs": [
    {
     "data": {
      "text/plain": [
       "world"
      ]
     },
     "metadata": {},
     "output_type": "display_data"
    }
   ],
   "source": [
    "-- An IO action that perform the action of printing \"Hello\". \n",
    "someIOType :: IO ()\n",
    "someIOType = putStrLn \"Hello\"\n",
    "\n",
    "-- A naive and wrong function that can combine two IO () actions\n",
    "combineIO :: IO () -> IO ()    -- A naive and wrong way of composing IO actions\n",
    "combineIO io = putStrLn \"world\"\n",
    "combineIO someIOType"
   ]
  },
  {
   "cell_type": "markdown",
   "metadata": {},
   "source": [
    "Here the `someIOType` which perform the action of writing \"Hello\" is not being performed. This is because the input `io` is not being used after the equal sign, and thus not being evaluated. But how can we call this 'io' input on the right side? To solve this we introduce the **then** operator given by `>>` and the **bind** operator given by `>>=`. The difference between the two is that the former operator does not use the output of the first operation for the second one where the latter operator does. So for the then and bind operator we get"
   ]
  },
  {
   "cell_type": "code",
   "execution_count": 8,
   "metadata": {},
   "outputs": [
    {
     "data": {
      "text/plain": [
       "Hello\n",
       "world"
      ]
     },
     "metadata": {},
     "output_type": "display_data"
    },
    {
     "data": {
      "text/plain": [
       "\"2.2-Creating-Types.ipynb\""
      ]
     },
     "metadata": {},
     "output_type": "display_data"
    }
   ],
   "source": [
    "import System.Directory (listDirectory)\n",
    "\n",
    "-- A new expression that is of type IO ()\n",
    "someIOType :: IO ()\n",
    "someIOType = putStrLn \"Hello\" \n",
    "\n",
    "-- A function that can combine two IO () actions\n",
    "combineIOThen :: IO () -> IO ()\n",
    "combineIOThen io = io >> putStrLn \"world\"\n",
    "combineIOThen someIOType\n",
    "\n",
    "-- A pure function that takes as input a list of file paths and return the first one as a string\n",
    "headFilePathList :: [FilePath] -> String\n",
    "headFilePathList = show . head\n",
    "\n",
    "-- A new expression that is of type IO [FilePath]\n",
    "someIOTypeTwo :: IO [FilePath]\n",
    "someIOTypeTwo = listDirectory \".\"\n",
    "\n",
    "-- A function that can combine two IO action and use the the wrapped output of the first action as an input of the first\n",
    "combineIOWithBind :: IO [FilePath] -> IO ()\n",
    "combineIOWithBind io = io >>= putStrLn . headFilePathList\n",
    "combineIOWithBind someIOTypeTwo"
   ]
  },
  {
   "cell_type": "markdown",
   "metadata": {},
   "source": [
    "## The do block"
   ]
  },
  {
   "cell_type": "markdown",
   "metadata": {},
   "source": [
    "Now that we know how to compose actions we are going to generalize this with the so called **do block**. To introduce the necessity and reasons of this we look at a few examples. First consider the composition of many actions via the then operator `>>`."
   ]
  },
  {
   "cell_type": "code",
   "execution_count": 27,
   "metadata": {},
   "outputs": [
    {
     "data": {
      "text/plain": [
       "Action 1\n",
       "Action 3"
      ]
     },
     "metadata": {},
     "output_type": "display_data"
    }
   ],
   "source": [
    "import System.Directory (listDirectory)\n",
    "\n",
    "--  IO () action        IO [FilePath]           IO ()\n",
    "putStrLn \"Action 1\" >> listDirectory \".\" >> putStrLn \"Action 3\""
   ]
  },
  {
   "cell_type": "markdown",
   "metadata": {},
   "source": [
    "Note that each action is **independent** of the others, the first and last output `Action 1` and `Action 3` respectivly. The middle one grabs the current files in the directory \".\" which we do not output. Thus we see that each action can be composed without thinking about if the composition is type correct. Lets look at how this pattern would work for the bind operator `>>=`."
   ]
  },
  {
   "cell_type": "code",
   "execution_count": 15,
   "metadata": {},
   "outputs": [
    {
     "data": {
      "text/html": [
       "<style>/* Styles used for the Hoogle display in the pager */\n",
       ".hoogle-doc {\n",
       "display: block;\n",
       "padding-bottom: 1.3em;\n",
       "padding-left: 0.4em;\n",
       "}\n",
       ".hoogle-code {\n",
       "display: block;\n",
       "font-family: monospace;\n",
       "white-space: pre;\n",
       "}\n",
       ".hoogle-text {\n",
       "display: block;\n",
       "}\n",
       ".hoogle-name {\n",
       "color: green;\n",
       "font-weight: bold;\n",
       "}\n",
       ".hoogle-head {\n",
       "font-weight: bold;\n",
       "}\n",
       ".hoogle-sub {\n",
       "display: block;\n",
       "margin-left: 0.4em;\n",
       "}\n",
       ".hoogle-package {\n",
       "font-weight: bold;\n",
       "font-style: italic;\n",
       "}\n",
       ".hoogle-module {\n",
       "font-weight: bold;\n",
       "}\n",
       ".hoogle-class {\n",
       "font-weight: bold;\n",
       "}\n",
       ".get-type {\n",
       "color: green;\n",
       "font-weight: bold;\n",
       "font-family: monospace;\n",
       "display: block;\n",
       "white-space: pre-wrap;\n",
       "}\n",
       ".show-type {\n",
       "color: green;\n",
       "font-weight: bold;\n",
       "font-family: monospace;\n",
       "margin-left: 1em;\n",
       "}\n",
       ".mono {\n",
       "font-family: monospace;\n",
       "display: block;\n",
       "}\n",
       ".err-msg {\n",
       "color: red;\n",
       "font-style: italic;\n",
       "font-family: monospace;\n",
       "white-space: pre;\n",
       "display: block;\n",
       "}\n",
       "#unshowable {\n",
       "color: red;\n",
       "font-weight: bold;\n",
       "}\n",
       ".err-msg.in.collapse {\n",
       "padding-top: 0.7em;\n",
       "}\n",
       ".highlight-code {\n",
       "white-space: pre;\n",
       "font-family: monospace;\n",
       "}\n",
       ".suggestion-warning { \n",
       "font-weight: bold;\n",
       "color: rgb(200, 130, 0);\n",
       "}\n",
       ".suggestion-error { \n",
       "font-weight: bold;\n",
       "color: red;\n",
       "}\n",
       ".suggestion-name {\n",
       "font-weight: bold;\n",
       "}\n",
       "</style><span class='get-type'>grabFilePathIO :: IO [FilePath]</span>"
      ],
      "text/plain": [
       "grabFilePathIO :: IO [FilePath]"
      ]
     },
     "metadata": {},
     "output_type": "display_data"
    },
    {
     "data": {
      "text/html": [
       "<style>/* Styles used for the Hoogle display in the pager */\n",
       ".hoogle-doc {\n",
       "display: block;\n",
       "padding-bottom: 1.3em;\n",
       "padding-left: 0.4em;\n",
       "}\n",
       ".hoogle-code {\n",
       "display: block;\n",
       "font-family: monospace;\n",
       "white-space: pre;\n",
       "}\n",
       ".hoogle-text {\n",
       "display: block;\n",
       "}\n",
       ".hoogle-name {\n",
       "color: green;\n",
       "font-weight: bold;\n",
       "}\n",
       ".hoogle-head {\n",
       "font-weight: bold;\n",
       "}\n",
       ".hoogle-sub {\n",
       "display: block;\n",
       "margin-left: 0.4em;\n",
       "}\n",
       ".hoogle-package {\n",
       "font-weight: bold;\n",
       "font-style: italic;\n",
       "}\n",
       ".hoogle-module {\n",
       "font-weight: bold;\n",
       "}\n",
       ".hoogle-class {\n",
       "font-weight: bold;\n",
       "}\n",
       ".get-type {\n",
       "color: green;\n",
       "font-weight: bold;\n",
       "font-family: monospace;\n",
       "display: block;\n",
       "white-space: pre-wrap;\n",
       "}\n",
       ".show-type {\n",
       "color: green;\n",
       "font-weight: bold;\n",
       "font-family: monospace;\n",
       "margin-left: 1em;\n",
       "}\n",
       ".mono {\n",
       "font-family: monospace;\n",
       "display: block;\n",
       "}\n",
       ".err-msg {\n",
       "color: red;\n",
       "font-style: italic;\n",
       "font-family: monospace;\n",
       "white-space: pre;\n",
       "display: block;\n",
       "}\n",
       "#unshowable {\n",
       "color: red;\n",
       "font-weight: bold;\n",
       "}\n",
       ".err-msg.in.collapse {\n",
       "padding-top: 0.7em;\n",
       "}\n",
       ".highlight-code {\n",
       "white-space: pre;\n",
       "font-family: monospace;\n",
       "}\n",
       ".suggestion-warning { \n",
       "font-weight: bold;\n",
       "color: rgb(200, 130, 0);\n",
       "}\n",
       ".suggestion-error { \n",
       "font-weight: bold;\n",
       "color: red;\n",
       "}\n",
       ".suggestion-name {\n",
       "font-weight: bold;\n",
       "}\n",
       "</style><span class='get-type'>printHeadFilePathList :: [FilePath] -> IO ()</span>"
      ],
      "text/plain": [
       "printHeadFilePathList :: [FilePath] -> IO ()"
      ]
     },
     "metadata": {},
     "output_type": "display_data"
    },
    {
     "data": {
      "text/html": [
       "<style>/* Styles used for the Hoogle display in the pager */\n",
       ".hoogle-doc {\n",
       "display: block;\n",
       "padding-bottom: 1.3em;\n",
       "padding-left: 0.4em;\n",
       "}\n",
       ".hoogle-code {\n",
       "display: block;\n",
       "font-family: monospace;\n",
       "white-space: pre;\n",
       "}\n",
       ".hoogle-text {\n",
       "display: block;\n",
       "}\n",
       ".hoogle-name {\n",
       "color: green;\n",
       "font-weight: bold;\n",
       "}\n",
       ".hoogle-head {\n",
       "font-weight: bold;\n",
       "}\n",
       ".hoogle-sub {\n",
       "display: block;\n",
       "margin-left: 0.4em;\n",
       "}\n",
       ".hoogle-package {\n",
       "font-weight: bold;\n",
       "font-style: italic;\n",
       "}\n",
       ".hoogle-module {\n",
       "font-weight: bold;\n",
       "}\n",
       ".hoogle-class {\n",
       "font-weight: bold;\n",
       "}\n",
       ".get-type {\n",
       "color: green;\n",
       "font-weight: bold;\n",
       "font-family: monospace;\n",
       "display: block;\n",
       "white-space: pre-wrap;\n",
       "}\n",
       ".show-type {\n",
       "color: green;\n",
       "font-weight: bold;\n",
       "font-family: monospace;\n",
       "margin-left: 1em;\n",
       "}\n",
       ".mono {\n",
       "font-family: monospace;\n",
       "display: block;\n",
       "}\n",
       ".err-msg {\n",
       "color: red;\n",
       "font-style: italic;\n",
       "font-family: monospace;\n",
       "white-space: pre;\n",
       "display: block;\n",
       "}\n",
       "#unshowable {\n",
       "color: red;\n",
       "font-weight: bold;\n",
       "}\n",
       ".err-msg.in.collapse {\n",
       "padding-top: 0.7em;\n",
       "}\n",
       ".highlight-code {\n",
       "white-space: pre;\n",
       "font-family: monospace;\n",
       "}\n",
       ".suggestion-warning { \n",
       "font-weight: bold;\n",
       "color: rgb(200, 130, 0);\n",
       "}\n",
       ".suggestion-error { \n",
       "font-weight: bold;\n",
       "color: red;\n",
       "}\n",
       ".suggestion-name {\n",
       "font-weight: bold;\n",
       "}\n",
       "</style><span class='get-type'>printLastFilePathList :: [FilePath] -> IO ()</span>"
      ],
      "text/plain": [
       "printLastFilePathList :: [FilePath] -> IO ()"
      ]
     },
     "metadata": {},
     "output_type": "display_data"
    }
   ],
   "source": [
    "import System.Directory (listDirectory)\n",
    "\n",
    "-- A new expression that is of type IO ()\n",
    "someIOType :: IO ()\n",
    "someIOType = putStrLn \"Hello\" \n",
    "\n",
    "-- A pure function that takes as input a list of file paths and return the first one as a string\n",
    "headFilePathList :: [FilePath] -> String\n",
    "headFilePathList = show . head\n",
    "\n",
    "-- A pure function that takes as input a list of file paths and return the first one as a string\n",
    "lastFilePathList :: [FilePath] -> String\n",
    "lastFilePathList = show . last\n",
    "\n",
    "-- An action that performs the action of grabbin the files in the directory \".\"\n",
    "grabFilePathIO :: IO [FilePath]\n",
    "grabFilePathIO = listDirectory \".\"\n",
    "\n",
    "-- An action that takes as input a list of file paths and writes the first element to the the output and returns ()\n",
    "printHeadFilePathList :: [FilePath] -> IO ()\n",
    "printHeadFilePathList = putStrLn . headFilePathList\n",
    "\n",
    "-- An action that takes as input a list of file paths and writes the last element to the the output and returns ()\n",
    "printLastFilePathList :: [FilePath] -> IO ()\n",
    "printLastFilePathList = putStrLn . lastFilePathList\n",
    "\n",
    "-- checking the types of the new actions\n",
    ":t grabFilePathIO\n",
    ":t printHeadFilePathList\n",
    ":t printLastFilePathList"
   ]
  },
  {
   "cell_type": "markdown",
   "metadata": {},
   "source": [
    "Again we would like to perforn these action by composing them. But this situation is different, since we use inputs in other actions from previous actions we have to chech that everything is type correct. From the types we deduce that we can not compose all three at the same time since the last composition would lead to the problem that the action `printHeadFilePathList` outputs `()` but the next action `printLastFilePathList` needs the type `[FilePath]`. To still make use of the output of the first action in the last action we must make it know to the last one. Achieving this can be done with **anonymous functions** (sometimes called a lambda expression from the symbolic resemblance with a greek letter lambda (λ) and it ties to lambda calculus). These lambda functions are inline defined function which are imideatly applied to an input. They take the form"
   ]
  },
  {
   "cell_type": "code",
   "execution_count": 2,
   "metadata": {},
   "outputs": [
    {
     "data": {
      "text/plain": [
       "3"
      ]
     },
     "metadata": {},
     "output_type": "display_data"
    }
   ],
   "source": [
    "(\\x -> 2*x + 1) 1"
   ]
  },
  {
   "cell_type": "markdown",
   "metadata": {},
   "source": [
    "Using this we can combine the action while making the inputs **progressivly** available to the other actions in line by traversingly adding the actions from last to first to an encompasing anonymous function. To make sense of this long difficult sentence lets have a look at the following example"
   ]
  },
  {
   "cell_type": "code",
   "execution_count": 12,
   "metadata": {},
   "outputs": [
    {
     "data": {
      "text/plain": [
       "\"2.2-Creating-Types.ipynb\"\n",
       "\".ipynb_checkpoints\""
      ]
     },
     "metadata": {},
     "output_type": "display_data"
    },
    {
     "data": {
      "text/html": [
       "<style>/* Styles used for the Hoogle display in the pager */\n",
       ".hoogle-doc {\n",
       "display: block;\n",
       "padding-bottom: 1.3em;\n",
       "padding-left: 0.4em;\n",
       "}\n",
       ".hoogle-code {\n",
       "display: block;\n",
       "font-family: monospace;\n",
       "white-space: pre;\n",
       "}\n",
       ".hoogle-text {\n",
       "display: block;\n",
       "}\n",
       ".hoogle-name {\n",
       "color: green;\n",
       "font-weight: bold;\n",
       "}\n",
       ".hoogle-head {\n",
       "font-weight: bold;\n",
       "}\n",
       ".hoogle-sub {\n",
       "display: block;\n",
       "margin-left: 0.4em;\n",
       "}\n",
       ".hoogle-package {\n",
       "font-weight: bold;\n",
       "font-style: italic;\n",
       "}\n",
       ".hoogle-module {\n",
       "font-weight: bold;\n",
       "}\n",
       ".hoogle-class {\n",
       "font-weight: bold;\n",
       "}\n",
       ".get-type {\n",
       "color: green;\n",
       "font-weight: bold;\n",
       "font-family: monospace;\n",
       "display: block;\n",
       "white-space: pre-wrap;\n",
       "}\n",
       ".show-type {\n",
       "color: green;\n",
       "font-weight: bold;\n",
       "font-family: monospace;\n",
       "margin-left: 1em;\n",
       "}\n",
       ".mono {\n",
       "font-family: monospace;\n",
       "display: block;\n",
       "}\n",
       ".err-msg {\n",
       "color: red;\n",
       "font-style: italic;\n",
       "font-family: monospace;\n",
       "white-space: pre;\n",
       "display: block;\n",
       "}\n",
       "#unshowable {\n",
       "color: red;\n",
       "font-weight: bold;\n",
       "}\n",
       ".err-msg.in.collapse {\n",
       "padding-top: 0.7em;\n",
       "}\n",
       ".highlight-code {\n",
       "white-space: pre;\n",
       "font-family: monospace;\n",
       "}\n",
       ".suggestion-warning { \n",
       "font-weight: bold;\n",
       "color: rgb(200, 130, 0);\n",
       "}\n",
       ".suggestion-error { \n",
       "font-weight: bold;\n",
       "color: red;\n",
       "}\n",
       ".suggestion-name {\n",
       "font-weight: bold;\n",
       "}\n",
       "</style><span class='get-type'>main :: IO ()</span>"
      ],
      "text/plain": [
       "main :: IO ()"
      ]
     },
     "metadata": {},
     "output_type": "display_data"
    }
   ],
   "source": [
    "import System.Directory (listDirectory)\n",
    "\n",
    "-- A new expression that is of type IO ()\n",
    "someIOType :: IO ()\n",
    "someIOType = putStrLn \"Hello\" \n",
    "\n",
    "-- A pure function that takes as input a list of file paths and return the first one as a string\n",
    "headFilePathList :: [FilePath] -> String\n",
    "headFilePathList = show . head\n",
    "\n",
    "-- A pure function that takes as input a list of file paths and return the first one as a string\n",
    "lastFilePathList :: [FilePath] -> String\n",
    "lastFilePathList = show . last\n",
    "\n",
    "-- An action that performs the action of grabbin the files in the directory \".\"\n",
    "grabFilePathIO :: IO [FilePath]\n",
    "grabFilePathIO = listDirectory \".\"\n",
    "\n",
    "-- An action that takes as input a list of file paths and writes the first element to the the output and returns ()\n",
    "printHeadFilePathList :: [FilePath] -> IO ()\n",
    "printHeadFilePathList = putStrLn . headFilePathList\n",
    "\n",
    "-- An action that takes as input a list of file paths and writes the last element to the the output and returns ()\n",
    "printLastFilePathList :: [FilePath] -> IO ()\n",
    "printLastFilePathList = putStrLn . lastFilePathList\n",
    "\n",
    "main = grabFilePathIO >>= (\\ x1 -> printHeadFilePathList x1 >>= (\\ x2 -> printLastFilePathList x1 ))\n",
    "\n",
    "-- performing the expression and checking the type of the new expression\n",
    "main\n",
    ":t main"
   ]
  },
  {
   "cell_type": "markdown",
   "metadata": {},
   "source": [
    "Here we first forward the output of the `grabFileIO` action into the first anonymous function which enclosed all other following actions. This anonymous function receives the input in the anonymous variable `x1` which is used in the action `printHeadFilePathList` to output the first element of the list. This action in its turn passes its return value `()` to the second and last anonymous function which labels this input as `x2`. This last anonymous function in its turn does not use this variable `x2` but uses the `x1` varibale to perform the `printLastFilePathList` action. Note that with this construction all inputs gradually become available for the last function. Also observe that `main` has type `IO ()` and is a action on itself, we achieved composition of actions. Now clearly this construction is very cumbersome and not practical in real life coding."
   ]
  },
  {
   "cell_type": "markdown",
   "metadata": {},
   "source": [
    "Thats why to make it easier this whole construction is done by a **do block** which is just some syntactic sugar. This block looks just like an imperitave way of programming but importantly, in its core it is still functional. An example of the above composition of actions in a do block becomes"
   ]
  },
  {
   "cell_type": "code",
   "execution_count": 14,
   "metadata": {},
   "outputs": [
    {
     "data": {
      "text/plain": [
       "\"2.2-Creating-Types.ipynb\"\n",
       "\".ipynb_checkpoints\""
      ]
     },
     "metadata": {},
     "output_type": "display_data"
    },
    {
     "data": {
      "text/html": [
       "<style>/* Styles used for the Hoogle display in the pager */\n",
       ".hoogle-doc {\n",
       "display: block;\n",
       "padding-bottom: 1.3em;\n",
       "padding-left: 0.4em;\n",
       "}\n",
       ".hoogle-code {\n",
       "display: block;\n",
       "font-family: monospace;\n",
       "white-space: pre;\n",
       "}\n",
       ".hoogle-text {\n",
       "display: block;\n",
       "}\n",
       ".hoogle-name {\n",
       "color: green;\n",
       "font-weight: bold;\n",
       "}\n",
       ".hoogle-head {\n",
       "font-weight: bold;\n",
       "}\n",
       ".hoogle-sub {\n",
       "display: block;\n",
       "margin-left: 0.4em;\n",
       "}\n",
       ".hoogle-package {\n",
       "font-weight: bold;\n",
       "font-style: italic;\n",
       "}\n",
       ".hoogle-module {\n",
       "font-weight: bold;\n",
       "}\n",
       ".hoogle-class {\n",
       "font-weight: bold;\n",
       "}\n",
       ".get-type {\n",
       "color: green;\n",
       "font-weight: bold;\n",
       "font-family: monospace;\n",
       "display: block;\n",
       "white-space: pre-wrap;\n",
       "}\n",
       ".show-type {\n",
       "color: green;\n",
       "font-weight: bold;\n",
       "font-family: monospace;\n",
       "margin-left: 1em;\n",
       "}\n",
       ".mono {\n",
       "font-family: monospace;\n",
       "display: block;\n",
       "}\n",
       ".err-msg {\n",
       "color: red;\n",
       "font-style: italic;\n",
       "font-family: monospace;\n",
       "white-space: pre;\n",
       "display: block;\n",
       "}\n",
       "#unshowable {\n",
       "color: red;\n",
       "font-weight: bold;\n",
       "}\n",
       ".err-msg.in.collapse {\n",
       "padding-top: 0.7em;\n",
       "}\n",
       ".highlight-code {\n",
       "white-space: pre;\n",
       "font-family: monospace;\n",
       "}\n",
       ".suggestion-warning { \n",
       "font-weight: bold;\n",
       "color: rgb(200, 130, 0);\n",
       "}\n",
       ".suggestion-error { \n",
       "font-weight: bold;\n",
       "color: red;\n",
       "}\n",
       ".suggestion-name {\n",
       "font-weight: bold;\n",
       "}\n",
       "</style><span class='get-type'>main :: IO ()</span>"
      ],
      "text/plain": [
       "main :: IO ()"
      ]
     },
     "metadata": {},
     "output_type": "display_data"
    }
   ],
   "source": [
    "import System.Directory (listDirectory)\n",
    "\n",
    "-- A new expression that is of type IO ()\n",
    "someIOType :: IO ()\n",
    "someIOType = putStrLn \"Hello\" \n",
    "\n",
    "-- A pure function that takes as input a list of file paths and return the first one as a string\n",
    "headFilePathList :: [FilePath] -> String\n",
    "headFilePathList = show . head\n",
    "\n",
    "-- A pure function that takes as input a list of file paths and return the first one as a string\n",
    "lastFilePathList :: [FilePath] -> String\n",
    "lastFilePathList = show . last\n",
    "\n",
    "-- An action that performs the action of grabbin the files in the directory \".\"\n",
    "grabFilePathIO :: IO [FilePath]\n",
    "grabFilePathIO = listDirectory \".\"\n",
    "\n",
    "-- An action that takes as input a list of file paths and writes the first element to the the output and returns ()\n",
    "printHeadFilePathList :: [FilePath] -> IO ()\n",
    "printHeadFilePathList = putStrLn . headFilePathList\n",
    "\n",
    "-- An action that takes as input a list of file paths and writes the last element to the the output and returns ()\n",
    "printLastFilePathList :: [FilePath] -> IO ()\n",
    "printLastFilePathList = putStrLn . lastFilePathList\n",
    "\n",
    "main :: IO ()\n",
    "main = do x1 <- grabFilePathIO\n",
    "          x2 <- printHeadFilePathList x1 -- We omit the x2 <- here since this action outputs an () and we do not use it.\n",
    "          printLastFilePathList x1\n",
    "          \n",
    "-- perform the new main action\n",
    "main"
   ]
  },
  {
   "cell_type": "markdown",
   "metadata": {},
   "source": [
    "## Recap"
   ]
  },
  {
   "cell_type": "markdown",
   "metadata": {},
   "source": [
    "In this section we have introduced the concepts of IO actions. \n",
    "\n",
    "- Haskell knows two types of functions, pure and impure function, the latter are called IO actions. \n",
    "- These types of impure fuunction are wrapped and marked by `IO` and may perform usefull side effects. \n",
    "- once a type is wrapped in an IO action it can never shed this wrapper. \n",
    "- IO action can be composed using two operators, the then operator denoted by `>>` and the bind operator denoted by `>>=`.\n",
    "- The do block lets you easily compose multiple action withour worring about type correctnes and anonymous functions."
   ]
  },
  {
   "cell_type": "code",
   "execution_count": null,
   "metadata": {},
   "outputs": [],
   "source": []
  }
 ],
 "metadata": {
  "kernelspec": {
   "display_name": "Haskell",
   "language": "haskell",
   "name": "haskell"
  },
  "language_info": {
   "codemirror_mode": "ihaskell",
   "file_extension": ".hs",
   "mimetype": "text/x-haskell",
   "name": "haskell",
   "pygments_lexer": "Haskell",
   "version": "8.10.7"
  }
 },
 "nbformat": 4,
 "nbformat_minor": 4
}
