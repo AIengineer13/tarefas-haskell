{
 "cells": [
  {
   "cell_type": "markdown",
   "metadata": {},
   "source": [
    "# Pattern matching, let and where"
   ]
  },
  {
   "cell_type": "markdown",
   "metadata": {},
   "source": [
    "## Outline\n",
    "\n",
    "* If-then-else and multi-way if.\n",
    "\n",
    "* Pattern matching for\n",
    "\n",
    "    * function definitions\n",
    "\n",
    "    * lists\n",
    "\n",
    "    * tuples\n",
    "\n",
    "* Let and where constructions"
   ]
  },
  {
   "cell_type": "markdown",
   "metadata": {},
   "source": [
    "## If-then-else expressions"
   ]
  },
  {
   "cell_type": "markdown",
   "metadata": {},
   "source": [
    "You have to choose inside a function very often. There are several ways to express conditional operator. Haskell has a branching construction **if-then-else** is written in form"
   ]
  },
  {
   "cell_type": "markdown",
   "metadata": {},
   "source": [
    "```haskell\n",
    "if Condition then Expesssion1 else Expesssion2\n",
    "```"
   ]
  },
  {
   "cell_type": "markdown",
   "metadata": {},
   "source": [
    "where `Condition` is a logical expression that yields `False` or `True`, `Expression1` is an expression value used in the `True` case, `Expression2` is the expression used in the `False` case."
   ]
  },
  {
   "cell_type": "markdown",
   "metadata": {},
   "source": [
    "The function `checkLocalHost` below checks if the argument is a localhost or not and reports the user the result."
   ]
  },
  {
   "cell_type": "markdown",
   "metadata": {},
   "source": [
    "```haskell\n",
    "checkLocalhost :: String -> String\n",
    "checkLocalhost ip =\n",
    "    -- True or False?\n",
    "    if ip == \"127.0.0.1\"\n",
    "        -- When the condition is True the answer is\n",
    "        then \"It’s a localhost!\"\n",
    "        -- Otherwise the condition is False and the answer is\n",
    "        else \"No, it's not a localhost.\"\n",
    "```"
   ]
  },
  {
   "cell_type": "markdown",
   "metadata": {},
   "source": [
    "The `checkLocalhost` function is applied to a single argument of type `String` and returns another value of type `String`. The argument is a string `ip` containing the IP address, and the function checks if it contains localhost `\"127.0.0.1\"`. If the check is successful the function returns `\"It's a localhost!\"`, otherwise it returns `\"No, it's not a localhost.\"` \n",
    "\n",
    "In fact, the **if-then-else** operator here checks the value of the `Bool` variable `ip == \"127.0.0.1\"`."
   ]
  },
  {
   "cell_type": "markdown",
   "metadata": {},
   "source": [
    "## Pattern matching\n"
   ]
  },
  {
   "cell_type": "markdown",
   "metadata": {},
   "source": [
    "**Pattern matching** is an act of matching (comparing) data (values, types, etc.) against a certain pattern and binding variables to successful matches. We are going to discuss pattern matching in three cases.\n",
    "\n"
   ]
  },
  {
   "cell_type": "markdown",
   "metadata": {},
   "source": [
    "* Pattern matching in function definitions (multi-way if, case).\n",
    "\n",
    "* Pattern matching for lists.\n",
    "\n",
    "* Pattern matching for tuples."
   ]
  },
  {
   "cell_type": "markdown",
   "metadata": {},
   "source": [
    "### Bad example of code: folded if-then-else "
   ]
  },
  {
   "cell_type": "markdown",
   "metadata": {},
   "source": [
    "Sometimes it is necessary to compare the argument with more than one value. The easiest (and the least effective) way is to use the folded if-then-else construction. "
   ]
  },
  {
   "cell_type": "markdown",
   "metadata": {},
   "source": [
    "In the example below we want to check is a golden sample of 999, 750, or 585 standard."
   ]
  },
  {
   "cell_type": "markdown",
   "metadata": {},
   "source": [
    "```haskell\n",
    "analyzeGold :: Int -> String\n",
    "analyzeGold standard =\n",
    "    if standard == 999\n",
    "        then \"Wow! 999 standard!\"\n",
    "        else if standard == 750\n",
    "            then \"Great! 750 standard.\"\n",
    "            else if standard == 585\n",
    "                then \"Not bad! 585 standard.\"\n",
    "                else \"I don’t know such a standard...\"\n",
    "```"
   ]
  },
  {
   "cell_type": "markdown",
   "metadata": {},
   "source": [
    "And if there were about five or seven analyzed samples of gold, this ladder would become even longer and worse."
   ]
  },
  {
   "cell_type": "markdown",
   "metadata": {},
   "source": [
    "### Better example of code: multi-way if"
   ]
  },
  {
   "cell_type": "markdown",
   "metadata": {},
   "source": [
    "The inconvenience and non-elegance of the above construction is straightforward. Fortunately, in Haskell, you can write it differently:"
   ]
  },
  {
   "cell_type": "markdown",
   "metadata": {},
   "source": [
    "```haskell\n",
    "analyzeGold :: Int -> String\n",
    "analyzeGold standard =\n",
    "    if  | standard == 999 -> \"Wow! 999 standard!\"\n",
    "        | standard == 750 -> \"Great! 750 standard.\"\n",
    "        | standard == 585 -> \"Not bad! 585 standard.\"\n",
    "        | otherwise -> \"I don’t know such a standard...\"\n",
    "```"
   ]
  },
  {
   "cell_type": "markdown",
   "metadata": {},
   "source": [
    "The above construction is a **multi-way if**. In general, it has form"
   ]
  },
  {
   "cell_type": "markdown",
   "metadata": {},
   "source": [
    "```haskell\n",
    "if  | COND1     -> EXPR1\n",
    "    | COND2     -> EXPR2\n",
    "    | ...\n",
    "    | CONDn     -> EXPRn\n",
    "    | otherwise -> COMMON_EXPR\n",
    "```"
   ]
  },
  {
   "cell_type": "markdown",
   "metadata": {},
   "source": [
    "where `COND1..n` are boolean expressions and `EXPR1..n` are the corresponding them the results. \n",
    "\n",
    "The special function `otherwise` corresponds to the general case when none of the logical expressions returned the `True` value, and in this situation\n",
    "the result of the conditional construction is the expression `COMMON_EXPR`."
   ]
  },
  {
   "cell_type": "markdown",
   "metadata": {},
   "source": [
    "**What happen's if I skip the \"otherwise\" in a multi-way if?**"
   ]
  },
  {
   "cell_type": "markdown",
   "metadata": {},
   "source": [
    "Suppose that the `otherwise` is skipped in the definition of `analyzeGold` and we call this function in GHCI with an argument that is different from the prescribed values 999, 750, and 585."
   ]
  },
  {
   "cell_type": "code",
   "execution_count": null,
   "metadata": {},
   "outputs": [],
   "source": [
    "analyzeGold :: Int -> String\n",
    "analyzeGold standard =\n",
    "    if  | standard == 999 -> \"Wow! 999 standard!\"\n",
    "        | standard == 750 -> \"Great! 750 standard.\"\n",
    "        | standard == 585 -> \"Not bad! 585 standard.\"\n",
    "        | otherwise -> \"I don’t know such a standard...\"\n",
    "\n",
    "analyzeGold 583"
   ]
  },
  {
   "cell_type": "markdown",
   "metadata": {},
   "source": [
    "The above code compiles well, but runs with an *error*:"
   ]
  },
  {
   "cell_type": "markdown",
   "metadata": {},
   "source": [
    "    Non-exhaustive guards in multi-way if"
   ]
  },
  {
   "cell_type": "markdown",
   "metadata": {},
   "source": [
    "Since our check wasn't complete, it has finished with an error. \n",
    "\n",
    "**Any comparison should be exhaustive and you should always use the otherwise case!**"
   ]
  },
  {
   "cell_type": "markdown",
   "metadata": {},
   "source": [
    "#### Guards"
   ]
  },
  {
   "cell_type": "markdown",
   "metadata": {},
   "source": [
    "When we've decided to skip the `otherwise` case in the *multi-way if* the word **GUARDS** appeared in the error message. "
   ]
  },
  {
   "cell_type": "markdown",
   "metadata": {},
   "source": [
    "**Who are these *guards*?** Vertical bars before the logical expressions are called **guards**. The reason for such name is that these `|` are vigilantly guarding and changing our conditions. \n",
    "\n"
   ]
  },
  {
   "cell_type": "markdown",
   "metadata": {},
   "source": [
    "**How to understand *guards* ?** To make them easier to read and understand think of them as an analogue of the word `\"OR\"` in the multi-way if."
   ]
  },
  {
   "cell_type": "markdown",
   "metadata": {},
   "source": [
    "### Even better code: 'multi-way if' without if"
   ]
  },
  {
   "cell_type": "markdown",
   "metadata": {},
   "source": [
    "The multi-way if is very handy, but there is even a prettier way to write the same code and skip `if` and substitute all arrows `->` with the equality sign `=`."
   ]
  },
  {
   "cell_type": "markdown",
   "metadata": {},
   "source": [
    "```haskell\n",
    "analyzeGold :: Int -> String\n",
    "analyzeGold standard\n",
    "    | standard == 999   = \"Wow! 999 standard!\"\n",
    "    | standard == 750   = \"Great! 750 standard.\"\n",
    "    | standard == 585   = \"Not bad! 585 standard.\"\n",
    "    | otherwise         = \"I don’t know such a standard...\"\n",
    "```"
   ]
  },
  {
   "cell_type": "markdown",
   "metadata": {},
   "source": [
    "The general pattern is the following:"
   ]
  },
  {
   "cell_type": "markdown",
   "metadata": {},
   "source": [
    "```haskell\n",
    "myfunction myargument -- Нет знака равенства?\n",
    "    | COND1     = EXPR1\n",
    "    | COND2     = EXPR2\n",
    "    | ...\n",
    "    | CONDn     = EXPRn\n",
    "    | otherwise = COMMON_EXPR\n",
    "```"
   ]
  },
  {
   "cell_type": "markdown",
   "metadata": {},
   "source": [
    "The construction is almost the same, but apart from the disappearance of the `if` keyword, we no more have a need in an equal sign `=` after the argument name `myargument` as the equal signs substitute the arrows `->`."
   ]
  },
  {
   "cell_type": "markdown",
   "metadata": {},
   "source": [
    "### Perfect code: pattern matching in function definition"
   ]
  },
  {
   "cell_type": "markdown",
   "metadata": {},
   "source": [
    "We've just skipped `if` and `->` from the multi-way if construction. Have anything left? Yes: the guards `|`, who are virtual `OR`'s."
   ]
  },
  {
   "cell_type": "markdown",
   "metadata": {},
   "source": [
    "The code for the function that checks whether a golden sample has 999, 750, or 585 standard takes form:"
   ]
  },
  {
   "cell_type": "markdown",
   "metadata": {},
   "source": [
    "```haskell\n",
    "analyzeGold :: Int -> String\n",
    "analyzeGold 999 = \"Wow! 999 standard!\"\n",
    "analyzeGold 750 = \"Great! 750 standard.\"\n",
    "analyzeGold 585 = \"Not bad! 585 standard.\"\n",
    "analyzeGold _   = \"I don’t know such a standard...\"\n",
    "```"
   ]
  },
  {
   "cell_type": "markdown",
   "metadata": {},
   "source": [
    "Now `analyzeGold` has a single signature, but multiple definitions!"
   ]
  },
  {
   "cell_type": "markdown",
   "metadata": {},
   "source": [
    "**How does `analyzeGold` works?**"
   ]
  },
  {
   "cell_type": "markdown",
   "metadata": {},
   "source": [
    "* In the first definiton we perform a **pattern matching**: is the integer argument equals to `999` or not?. If so, it returns `\"Wow! 999 standard!\"`\n",
    "\n"
   ]
  },
  {
   "cell_type": "markdown",
   "metadata": {},
   "source": [
    "* If the **pattern matching** against a *sample* 999 wasn't successful, the function goes to the second definition, where the **pattern matching** against a *sample* 750 happens.\n",
    "\n"
   ]
  },
  {
   "cell_type": "markdown",
   "metadata": {},
   "source": [
    "* If all **pattern matchings** weren't successful, the last comparison against the **catchall pattern** `_` happens. It is always ends with a success and function returns `\"I don’t know such a standard...\"`."
   ]
  },
  {
   "cell_type": "markdown",
   "metadata": {},
   "source": [
    "**General rule of pattern matching**\n",
    "\n",
    "* An argument of a function is matched against a sample on the subject of being \"suitable / not suitable.\" \n",
    "\n",
    "* If a match gives the result `True`, the corresponding expression returns as a result. If it doesn't match, function moves on to the next one."
   ]
  },
  {
   "cell_type": "markdown",
   "metadata": {},
   "source": [
    "**What is the catchall pattern?**"
   ]
  },
  {
   "cell_type": "markdown",
   "metadata": {},
   "source": [
    "The **catchall pattern** `_` is a sample such that any argument matches with it. \n",
    "\n",
    "It can be seen as *I don't care about any samples*, so the comparison with it always returns the corresponding expression."
   ]
  },
  {
   "cell_type": "markdown",
   "metadata": {},
   "source": [
    "A valid catchall pattern must always be provided! To use the **catchall pattern** instead of a value you have to provide **any name** that starts with lowercase, like `goldenSample`, `x`, or `anythingYouLikeToUse`. \n",
    "\n",
    "Nevertheless `_` is commonly used for catchall patterns. "
   ]
  },
  {
   "cell_type": "markdown",
   "metadata": {},
   "source": [
    "Again, if you will skip the catchall pattern `_` you'll get the warning:\t\n",
    "\n",
    "        Pattern match(es) are non-exhaustive in an equation for analyzeGold."
   ]
  },
  {
   "cell_type": "markdown",
   "metadata": {},
   "source": [
    "What should the function do if we pass `600`? We didn't specify it because we didn't pattern match for `600`!  Since we need the function to be able to work with any value that our types can accept, we need to pattern match for all possible situations! That's why we should **always use a catchall definition at the end**."
   ]
  },
  {
   "cell_type": "markdown",
   "metadata": {},
   "source": [
    "**Pattern matching order matters!**\n",
    "\n"
   ]
  },
  {
   "cell_type": "markdown",
   "metadata": {},
   "source": [
    "Haskell pattern matches from top to bottom. Let's change the order and write"
   ]
  },
  {
   "cell_type": "markdown",
   "metadata": {},
   "source": [
    "```haskell\n",
    "analyzeGold :: Int -> String\n",
    "analyzeGold _   = \"I don’t know such a standard...\"\n",
    "analyzeGold 999 = \"Wow! 999 standard!\"\n",
    "analyzeGold 750 = \"Great! 750 standard.\"\n",
    "analyzeGold 585 = \"Not bad! 585 standard.\"\n",
    "```"
   ]
  },
  {
   "cell_type": "markdown",
   "metadata": {},
   "source": [
    "The first definition will catch all the occurrences and we'll get always `\"I don't know such a standard...\"` as a result, no matter the number we pass. \n",
    "\n",
    "This happens because `_` matches with any argument, so the further matches aren't relevant.\n",
    "\n"
   ]
  },
  {
   "cell_type": "markdown",
   "metadata": {},
   "source": [
    "### Case-of construction"
   ]
  },
  {
   "cell_type": "markdown",
   "metadata": {},
   "source": [
    "There is another kind of pattern matching using the **case-of** construction:"
   ]
  },
  {
   "cell_type": "markdown",
   "metadata": {},
   "source": [
    "```haskell\n",
    "analyzeGold standard =\n",
    "    case standard of\n",
    "        999 -> \"Wow! 999 standard!\"\n",
    "        750 -> \"Great! 750 standard.\"\n",
    "        585 -> \"Not bad! 585 standard.\"\n",
    "        _   -> \"I don’t know such a standard...\"\n",
    "```"
   ]
  },
  {
   "cell_type": "markdown",
   "metadata": {},
   "source": [
    "`Case-of` sequentially compares the argument `standard` with the samples `999`, `750`, and `585`. If none worked out, as before, we run into the catchall pattern `_` and the function returns `\"I don’t know such a standard...\"`."
   ]
  },
  {
   "cell_type": "markdown",
   "metadata": {},
   "source": [
    "## Pattern matching lists"
   ]
  },
  {
   "cell_type": "markdown",
   "metadata": {},
   "source": [
    "Pattern matching works not for just functions, but you can do it with pretty much anything! Let's see how it can be used with lists."
   ]
  },
  {
   "cell_type": "markdown",
   "metadata": {},
   "source": [
    "### List structure (revisited)"
   ]
  },
  {
   "cell_type": "markdown",
   "metadata": {},
   "source": [
    "The way we wrote lists so far is actually the syntactic sugar for the real way Haskell sees lists, as an empty list prepended with all the elements that it contains."
   ]
  },
  {
   "cell_type": "code",
   "execution_count": null,
   "metadata": {},
   "outputs": [],
   "source": [
    "[1,2,3,4] == 1:2:3:4:[]\n",
    "\n",
    "\"Hello!\"  == 'H':'e':'l':'l':'o':'!':[]"
   ]
  },
  {
   "cell_type": "markdown",
   "metadata": {},
   "source": [
    "where `:` is the cons operator.  \n",
    "\n",
    "Now that we know how lists look like without sugar, and we can use their structure to pattern match different function definitions depending on the list structure. "
   ]
  },
  {
   "cell_type": "markdown",
   "metadata": {},
   "source": [
    "### How to pattern match a list?"
   ]
  },
  {
   "cell_type": "markdown",
   "metadata": {},
   "source": [
    "Let's do a bunch of pattern matching all at once and investigate later:"
   ]
  },
  {
   "cell_type": "markdown",
   "metadata": {},
   "source": [
    "```haskell\n",
    "whatsInsideThisList :: [String] -> String\n",
    "whatsInsideThisList []         = \"It's empty!\"\n",
    "whatsInsideThisList [x]        = \"A single element: \" ++ x\n",
    "whatsInsideThisList [x, y]     = \"Two elements: \" ++ x ++ y\n",
    "whatsInsideThisList (x:y:z:[]) = \"The two elements are: \" ++ x ++ y ++ \". And the third one is: \" ++ z \n",
    "whatsInsideThisList (x:rest)   = \"The first element is: \" ++ x ++ \", and the are many more elements...\"\n",
    "```"
   ]
  },
  {
   "cell_type": "markdown",
   "metadata": {},
   "source": [
    "As you can see, you can pattern match for:\n",
    "\n",
    "* Empty list `[]`.\n",
    "\n",
    "* Lists `[x]` and `[x,y]` of length 1 and 2 respectively.\n",
    "\n",
    "* List `x:y:z:[]` of length 3 (the syntactic sugar is used here!). \n",
    "\n",
    "* Non-empty lists of any size with `x:rest`. (Commonly used in recursive functions and usually named `x:xs`.)"
   ]
  },
  {
   "cell_type": "markdown",
   "metadata": {},
   "source": [
    "The specific data that you don't care about while pattern matching falls into the last pattern `x:xs`."
   ]
  },
  {
   "cell_type": "markdown",
   "metadata": {},
   "source": [
    "The following function tells us which are the first and third elements in a list (if any):"
   ]
  },
  {
   "cell_type": "markdown",
   "metadata": {},
   "source": [
    "```haskell\n",
    "firstAndThird :: [String] -> String\n",
    "firstAndThird (x:_:z:_) = \"The first and third elements are: \" ++ x ++ \" and \" ++ z\n",
    "firstAndThird list      = \"I don't care!\"\n",
    "```"
   ]
  },
  {
   "cell_type": "markdown",
   "metadata": {},
   "source": [
    "The first definition will pattern match for any list with 3 or more elements, while `_` will ignore the second element and the rest of the list. This allows us to pattern match more easily and to avoid polluting our environment with variables that we don't need. "
   ]
  },
  {
   "cell_type": "markdown",
   "metadata": {},
   "source": [
    "### Pattern matching tuples"
   ]
  },
  {
   "cell_type": "markdown",
   "metadata": {},
   "source": [
    "Let's see how pattern matching works with tuples. "
   ]
  },
  {
   "cell_type": "markdown",
   "metadata": {},
   "source": [
    "As you can recall from previous lecture, we could only get the elements inside a pair (a tuple of two elements) using the `fst` and `snd` functions. \n",
    "\n",
    "If you needed a value from tuples bigger than that, you need to use the pattern matching."
   ]
  },
  {
   "cell_type": "markdown",
   "metadata": {},
   "source": [
    "The following function extracts the first element of a 3-element tuple :"
   ]
  },
  {
   "cell_type": "markdown",
   "metadata": {},
   "source": [
    "```haskell\n",
    "firstOfThree :: (a, b, c) -> a\n",
    "firstOfThree (x, _, _) = x\n",
    "```"
   ]
  },
  {
   "cell_type": "markdown",
   "metadata": {},
   "source": [
    "If we want to create a pair with the second and fourth elements of a 4-element tuple, we create a funtion"
   ]
  },
  {
   "cell_type": "markdown",
   "metadata": {},
   "source": [
    "```haskell\n",
    "pairFromFour (_, x, _, y) = (x, y)\n",
    "```"
   ]
  },
  {
   "cell_type": "markdown",
   "metadata": {},
   "source": [
    "## Let and where"
   ]
  },
  {
   "cell_type": "markdown",
   "metadata": {},
   "source": [
    "Now we will learn how to make functions more convenient and readable using `let` and `where` constructions. We'll use the *multi-way if* construction to demonstrate them."
   ]
  },
  {
   "cell_type": "markdown",
   "metadata": {},
   "source": [
    "### Let"
   ]
  },
  {
   "cell_type": "markdown",
   "metadata": {},
   "source": [
    "In the definition of the following function "
   ]
  },
  {
   "cell_type": "markdown",
   "metadata": {},
   "source": [
    "```haskell\n",
    "calculateTime :: Int -> Int\n",
    "calculateTime timeInS =\n",
    "    if  | timeInS < 40  -> timeInS + 120\n",
    "        | timeInS >= 40 -> timeInS + 8 + 120\n",
    "```"
   ]
  },
  {
   "cell_type": "markdown",
   "metadata": {},
   "source": [
    "some *magic numbers* (`40`, `120`, and `8`) are used. What are these numbers, what is their purpose, and is there a convenient way to refactor the function definition? Since none of these questions receive an answer, we say that these numbers are *magic*.       "
   ]
  },
  {
   "cell_type": "markdown",
   "metadata": {},
   "source": [
    "In order to recover the true meaning of these values and avoid these problems, you we'll enter temporary expressions, and then the code becomes completely different:"
   ]
  },
  {
   "cell_type": "markdown",
   "metadata": {},
   "source": [
    "```haskell\n",
    "calculateTime :: Int -> Int\n",
    "calculateTime timeInS =\n",
    "    let threshold   = 40\n",
    "        correction  = 120\n",
    "        delta       = 8\n",
    "    in\n",
    "    if  | timeInS   <  threshold -> timeInS + correction\n",
    "        | otherwise >= threshold -> timeInS + delta + correction\n",
    "```"
   ]
  },
  {
   "cell_type": "markdown",
   "metadata": {},
   "source": [
    "We rid of the *magic numbers* by introducing explanatory `threshold`, `correction`, and `delta` expressions through `let-in` construction.  "
   ]
  },
  {
   "cell_type": "markdown",
   "metadata": {},
   "source": [
    "The `let-in` construction introduces clarifying expressions according to the scheme :"
   ]
  },
  {
   "cell_type": "markdown",
   "metadata": {},
   "source": [
    "```haskell\n",
    "let DECLARATIONS in EXPRESSION\n",
    "```"
   ]
  },
  {
   "cell_type": "markdown",
   "metadata": {},
   "source": [
    "where `DECLARATIONS` are the expressions we want to introduce and `EXPRESSION` is the expression, in which the expressions from `DECLARATION` are used."
   ]
  },
  {
   "cell_type": "markdown",
   "metadata": {},
   "source": [
    "When we write"
   ]
  },
  {
   "cell_type": "markdown",
   "metadata": {},
   "source": [
    "```haskell\n",
    "let threshold = 40\n",
    "```"
   ]
  },
  {
   "cell_type": "markdown",
   "metadata": {},
   "source": [
    "we declare: **\"From now on, the expression `threshold` is equal to the expression 40.\"** It looks as an assignment, but we already know that there is no assignment in Haskell. Now the expression `threshold` can replace the number `40` inside the expression following the word `in`. "
   ]
  },
  {
   "cell_type": "markdown",
   "metadata": {},
   "source": [
    "**Benefits of `let-in` construction**\n",
    "\n",
    "* Allows to introduce as many explanations for the following code as you like.\n",
    "\n",
    "* Expressions in between `let` and `in` make our code clearer and in many cases even shorter."
   ]
  },
  {
   "cell_type": "markdown",
   "metadata": {},
   "source": [
    "**Warning about `let-in` construction:** the expression introduced by the `let-in` construction exists only within the expression following the word `in`."
   ]
  },
  {
   "cell_type": "markdown",
   "metadata": {},
   "source": [
    "The expression `delta` in the code below"
   ]
  },
  {
   "cell_type": "markdown",
   "metadata": {},
   "source": [
    "```haskell\n",
    "calculateTime :: Int -> Int\n",
    "calculateTime timeInS =\n",
    "    let threshold   = 40\n",
    "        correction  = 120\n",
    "    in\n",
    "    if  | timeInS < threshold -> timeInS + correction\n",
    "        | otherwise ->\n",
    "            let delta = 8 in timeInS + delta + correction\n",
    "```"
   ]
  },
  {
   "cell_type": "markdown",
   "metadata": {},
   "source": [
    "is visible only inside the expression `timeInS + delta + correction`."
   ]
  },
  {
   "cell_type": "markdown",
   "metadata": {},
   "source": [
    "**Is it required to write every single expressions between `let` and `in` in separate line?** No, but they should be separated by the semicolon `;` as in the code below. "
   ]
  },
  {
   "cell_type": "markdown",
   "metadata": {},
   "source": [
    "```haskell\n",
    "...\n",
    "let threshold = 40; correction = 120\n",
    "in\n",
    "if  | timeInS < threshold -> timeInS + correction\n",
    "    | otherwise ->\n",
    "        let delta = 8 in timeInS + delta + correction\n",
    "...\n",
    "```"
   ]
  },
  {
   "cell_type": "markdown",
   "metadata": {},
   "source": [
    "### Where"
   ]
  },
  {
   "cell_type": "markdown",
   "metadata": {},
   "source": [
    "There is another way to introduce intermediate expressions using the `where` construction."
   ]
  },
  {
   "cell_type": "markdown",
   "metadata": {},
   "source": [
    "The `where` keyword does almost the same thing as `let-in`, but the intermediate expressions are set at the end of the function. It is similar to a style used in math and one should read it as a scientific formula:"
   ]
  },
  {
   "cell_type": "markdown",
   "metadata": {},
   "source": [
    "```haskell\n",
    "hundred = fifty * two\n",
    "where\n",
    "    fifty = 50\n",
    "    two   = 2  \n",
    "```"
   ]
  },
  {
   "cell_type": "markdown",
   "metadata": {},
   "source": [
    "Using `where` the code for `calculateTime` function takes form"
   ]
  },
  {
   "cell_type": "markdown",
   "metadata": {},
   "source": [
    "```haskell\n",
    "calculateTime :: Int -> Int\n",
    "calculateTime timeInS =\n",
    "    if  | timeInS < threshold -> timeInS + correction\n",
    "        | otherwise ->  timeInS +\n",
    "                        delta +\n",
    "                        correction\n",
    "    where\n",
    "        threshold  = 40\n",
    "        correction = 120\n",
    "        delta      = 8\n",
    "```"
   ]
  },
  {
   "cell_type": "markdown",
   "metadata": {},
   "source": [
    "**How `where` differs from `let-in`?**"
   ]
  },
  {
   "cell_type": "markdown",
   "metadata": {},
   "source": [
    "While `let-in` is used to create *super-local* expressions, the expressions in `where` are visible in any part of code preceding it."
   ]
  },
  {
   "cell_type": "markdown",
   "metadata": {},
   "source": [
    "### Let and where together"
   ]
  },
  {
   "cell_type": "markdown",
   "metadata": {},
   "source": [
    "We can use `let-in` and `where` together, within the same function, but the general advise is: **do not mix up these constructions without any real nead**."
   ]
  },
  {
   "cell_type": "markdown",
   "metadata": {},
   "source": [
    "In the following function one part of expressions is located inside `let-in`, while the other part appers after `where` keyword."
   ]
  },
  {
   "cell_type": "markdown",
   "metadata": {},
   "source": [
    "```haskell\n",
    "calculateTime :: Int -> Int\n",
    "calculateTime timeInS =\n",
    "    let threshold = 40 in\n",
    "    if  | timeInS < threshold -> timeInS + correction\n",
    "        | otherwise -> timeInS + delta + correction\n",
    "    where\n",
    "        correction = 120\n",
    "        delta      = 8\n",
    "```"
   ]
  },
  {
   "cell_type": "markdown",
   "metadata": {},
   "source": [
    "**Can the expressions indide `let-in` and `where` depend on each other or on the parameter of the function?**"
   ]
  },
  {
   "cell_type": "markdown",
   "metadata": {},
   "source": [
    "In all previous examples we've used only simple expressions, where the numbers were substituted by their names. However, both constructions allow much more complicated scenarious."
   ]
  },
  {
   "cell_type": "markdown",
   "metadata": {},
   "source": [
    "```haskell\n",
    "calculateTime :: Int -> Int\n",
    "calculateTime timeInS =\n",
    "    let threshold = 40 in\n",
    "    if  | timeInS < threshold -> timeInS + correction\n",
    "        | otherwise -> timeInS + delta + correction\n",
    "    where\n",
    "        delta      = correction - 4\n",
    "        correction = timeInS * 2\n",
    "```"
   ]
  },
  {
   "cell_type": "markdown",
   "metadata": {},
   "source": [
    "Now `delta` depends on `correction`, and `correction` depends on the parameter `timeInS`. "
   ]
  },
  {
   "cell_type": "markdown",
   "metadata": {},
   "source": [
    "**The order of appearance of expressions in `let-in` and `where` doesn't matter, even if one expression uses the other.**"
   ]
  },
  {
   "cell_type": "markdown",
   "metadata": {},
   "source": [
    "In the following code `let`-expression uses the expression defined inside `where`:"
   ]
  },
  {
   "cell_type": "markdown",
   "metadata": {},
   "source": [
    "```haskell\n",
    "calculateTime :: Int -> Int\n",
    "calculateTime timeInS =\n",
    "    let delta     = correction - 4\n",
    "        threshold = 40\n",
    "    in\n",
    "    if  | timeInS < threshold -> timeInS + correction\n",
    "        | otherwise -> timeInS + delta + correction\n",
    "    where\n",
    "        correction = timeInS * 2\n",
    "```"
   ]
  },
  {
   "cell_type": "markdown",
   "metadata": {},
   "source": [
    "Here we've used the fact that `where`-expressions are visible in the any part of the code before `where`."
   ]
  },
  {
   "cell_type": "markdown",
   "metadata": {},
   "source": [
    "However, `let`-expressions aren't visible in `where`. The following code"
   ]
  },
  {
   "cell_type": "markdown",
   "metadata": {},
   "source": [
    "```haskell\n",
    "calculateTime :: Int -> Int\n",
    "calculateTime timeInS =\n",
    "    let delta     = correction - 4\n",
    "        threshold = 40\n",
    "    in\n",
    "    if  | timeInS < threshold -> timeInS + correction\n",
    "        | otherwise -> timeInS + delta + correction\n",
    "    where\n",
    "        correction = timeInS * 2 * threshold \n",
    "```"
   ]
  },
  {
   "cell_type": "markdown",
   "metadata": {},
   "source": [
    "returns an error "
   ]
  },
  {
   "cell_type": "markdown",
   "metadata": {},
   "source": [
    "        Not in scope: ‘threshold’"
   ]
  },
  {
   "cell_type": "markdown",
   "metadata": {},
   "source": [
    "**Conclusion**: you cannot use `let`-expressions inside `where`-expressions, because the former are no longer included in the expression following the keyword `in`."
   ]
  }
 ],
 "metadata": {
  "language_info": {
   "name": "python"
  },
  "orig_nbformat": 4
 },
 "nbformat": 4,
 "nbformat_minor": 2
}
