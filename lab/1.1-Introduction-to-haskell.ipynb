{
 "cells": [
  {
   "cell_type": "markdown",
   "metadata": {},
   "source": [
    "# Lesson 1.1 - Introduction to Haskell\n",
    "![](https://www.haskell.org/img/haskell-logo.svg)"
   ]
  },
  {
   "cell_type": "markdown",
   "metadata": {},
   "source": [
    "## Outline\n",
    "* How to use JupyterLab\n",
    "* Purely functional\n",
    "* Basic syntax\n",
    "* Haskell Type system\n",
    "* Lazyness\n",
    "* Tools: GHC (GHCi), Cabal, Stack"
   ]
  },
  {
   "cell_type": "markdown",
   "metadata": {},
   "source": [
    "## How to use JuypyterLab\n",
    "* Each file is a Jupyter notebook.\n",
    "* Each Jupyter notebook is a series of cells.\n",
    "* To execute a cell click ⇧⏎ (Shift + Enter).\n",
    "* You can play arround with the code inside the cells. Once you close the tab, every change will be lost."
   ]
  },
  {
   "cell_type": "markdown",
   "metadata": {},
   "source": [
    "## Purely functional programming language"
   ]
  },
  {
   "cell_type": "markdown",
   "metadata": {},
   "source": [
    "###  Funcitonal programming languages\n",
    "Haskell is a purely functional programming language. In functional programming languages, **programs are constructed by applying and composing functions**. Function definitions are **trees of expressions that map values to other values rather than a sequence of imperative statements** like in imperative languages.\n",
    "\n",
    "### Function composition\n",
    "\n",
    "Function composition is the act of **combining simple functions into more complicated ones**.\n",
    "\n",
    "Like the usual composition of functions in mathematics, the **result of each function is passed as the argument of the next**, and the result of the last one is the result of the whole.\n",
    "\n",
    "For example, suppose we have two functions $f$ and $g$:\n",
    "\n",
    "$$y = f(x)$$\n",
    "$$z = g(y)$$\n",
    "\n",
    "Composing them means we first compute $f(x)$ to get $y$, and then use $y$ as an argument to compute $g(y)$ to get $z$.\n",
    "\n",
    "On top of that, if we only care about the final result ($z$), we can skip naming the result of $f(x)$ as $y$ and just write:\n",
    "\n",
    "$$z = g(f(x))$$\n",
    "\n",
    "**That's how we can create arbitrarly complex functions by composing single functions** For example, we could create a function that takes a CSV file and extracts a list of users from it, another one that takes a list of users and adds them to a database tagging them as new users, and one that takes a dababase with users and sends an email to all new users. We could create a single function that takes a CSV file and sends emails to all new users on that CSV file by composing those three functions."
   ]
  },
  {
   "cell_type": "markdown",
   "metadata": {},
   "source": [
    "### Purely functional\n",
    "\n",
    "Purely functional programming languages treat all computations as the evaluation of mathematical functions. It consists of ensuring that functions will only depend on their arguments, regardless of any global or local state.\n",
    "\n",
    "In mathematics, the expression $y = x + 1$ means that the value of $y$ is a function that depends on $x$. For a specific $x$ (e.g., $3$), the value of $y$ will always be the same (e.g, $y = 3 + 1 = 4$). No matter if you're in Italy or Spain, if it's 1994 or 2022, or if you have other equations in the notebook. $y$ will care about the value of $x$ and nothing else.\n",
    "\n",
    "**That's a pure function, and that's how Haskell works.**"
   ]
  },
  {
   "cell_type": "markdown",
   "metadata": {},
   "source": [
    "## Basic syntax\n",
    "\n",
    "Haskell being a functional programming language means that you're going to write a lot of funcitons. So that's where we'll start."
   ]
  },
  {
   "cell_type": "markdown",
   "metadata": {},
   "source": [
    "### Declaring functions\n",
    "This is an expression to declare a function that checks if a number is greater than 18:"
   ]
  },
  {
   "cell_type": "code",
   "execution_count": 1,
   "metadata": {},
   "outputs": [
    {
     "ename": "SyntaxError",
     "evalue": "invalid syntax (80216587.py, line 1)",
     "output_type": "error",
     "traceback": [
      "\u001b[0;36m  Input \u001b[0;32mIn [1]\u001b[0;36m\u001b[0m\n\u001b[0;31m    greaterThan18 x = x > 18\u001b[0m\n\u001b[0m                  ^\u001b[0m\n\u001b[0;31mSyntaxError\u001b[0m\u001b[0;31m:\u001b[0m invalid syntax\n"
     ]
    }
   ],
   "source": [
    "greaterThan18 x = x > 18"
   ]
  },
  {
   "cell_type": "markdown",
   "metadata": {},
   "source": [
    "* `greaterThan18` is the name of the function. When declaring a function, choose a name that makes it easy to know what it does.\n",
    "* `x` is a symbol serving as a placeholder that'll be replaced by a value when we call (use) the function. It's called a parameter.\n",
    "* The `=` operator assigns the `x > 18` expression to the `greaterThan18` name.\n",
    "\n",
    "To the left of the `=` sign, we write the function's name and parameters. And to the right, the expression that'll be contained by this function."
   ]
  },
  {
   "cell_type": "markdown",
   "metadata": {},
   "source": [
    "### Using functions"
   ]
  },
  {
   "cell_type": "markdown",
   "metadata": {},
   "source": [
    "To use the `greaterThan18` function, we just have to write the name, a space, and write a number:"
   ]
  },
  {
   "cell_type": "code",
   "execution_count": null,
   "metadata": {},
   "outputs": [],
   "source": [
    "greaterThan18 30"
   ]
  },
  {
   "cell_type": "markdown",
   "metadata": {},
   "source": [
    "The function is executed, Haskell replaces all the `x` with `30`, and `greaterThan18 30` becomes `30 > 18`. Then, it evaluates the expression, returning `True`."
   ]
  },
  {
   "cell_type": "markdown",
   "metadata": {},
   "source": [
    "### More examples"
   ]
  },
  {
   "cell_type": "code",
   "execution_count": null,
   "metadata": {},
   "outputs": [],
   "source": [
    "-- A function that adds 6 numbers:\n",
    "add6numbers u v w x y z = u + v + w + x + y + z\n",
    "add6numbers  1 2 3 4 5 6  -- 21"
   ]
  },
  {
   "cell_type": "code",
   "execution_count": null,
   "metadata": {},
   "outputs": [],
   "source": [
    "-- A function that calculates the volume of a cylinder\n",
    "volumeOfACylinder r h = pi * r^2 * h  -- pi represents the number π, and it comes with Haskell\n",
    "volumeOfACylinder 3 10"
   ]
  },
  {
   "cell_type": "code",
   "execution_count": null,
   "metadata": {},
   "outputs": [],
   "source": [
    "-- A function that takes the temperature in Fahrenheith and returns it in Celsius\n",
    "fToC x = (x - 32)*5/9\n",
    "fToC 212  -- 100\t"
   ]
  },
  {
   "cell_type": "markdown",
   "metadata": {},
   "source": [
    "### Key points\n",
    "* We don't use parenthesis to contain the parameteres.\n",
    "* We don't use curly brackets to contain the body of a function.\n",
    "* Parametes are separated by spaces and a function's body is just an expression to the right of the `=` sign.\n",
    "* The first letter of a function's name has to be lowercase."
   ]
  },
  {
   "cell_type": "code",
   "execution_count": null,
   "metadata": {},
   "outputs": [],
   "source": []
  },
  {
   "cell_type": "markdown",
   "metadata": {},
   "source": [
    "## Haskell type system"
   ]
  },
  {
   "cell_type": "markdown",
   "metadata": {},
   "source": [
    "## Lazyness"
   ]
  },
  {
   "cell_type": "markdown",
   "metadata": {},
   "source": [
    "## Tools"
   ]
  },
  {
   "cell_type": "markdown",
   "metadata": {},
   "source": [
    "### GHC and GHCi"
   ]
  },
  {
   "cell_type": "markdown",
   "metadata": {},
   "source": [
    "### Cabal and Stack"
   ]
  },
  {
   "cell_type": "markdown",
   "metadata": {},
   "source": []
  }
 ],
 "metadata": {
  "kernelspec": {
   "display_name": "Python 2",
   "language": "python",
   "name": "python2"
  },
  "language_info": {
   "codemirror_mode": {
    "name": "ipython",
    "version": 3
   },
   "file_extension": ".py",
   "mimetype": "text/x-python",
   "name": "python",
   "nbconvert_exporter": "python",
   "pygments_lexer": "ipython3",
   "version": "3.9.12"
  },
  "orig_nbformat": 4
 },
 "nbformat": 4,
 "nbformat_minor": 2
}
