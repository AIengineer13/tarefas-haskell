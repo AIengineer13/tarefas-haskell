{
 "cells": [
  {
   "cell_type": "markdown",
   "metadata": {},
   "source": [
    "# Intro to Type Classes"
   ]
  },
  {
   "cell_type": "markdown",
   "metadata": {},
   "source": [
    "## Outline\n",
    "* What are type classes \n",
    "* Common type classes \n",
    "\t* Eq\n",
    "\t* Ord (how >,<, etc, works on lists and tuples?)\n",
    "\t* Integral\n",
    "\t* Floating\n",
    "\t* Num\n",
    "\t* Read and Show\n",
    "* Type class vs type vs value\n",
    "* Class constraints with examples"
   ]
  },
  {
   "cell_type": "markdown",
   "metadata": {},
   "source": [
    "## What are type classes"
   ]
  },
  {
   "cell_type": "markdown",
   "metadata": {},
   "source": [
    "\n",
    "<sub>This is an introduction to type classes, so we won't learn how to create type classes nor make a type an instance of a type class. The objective of this lesson is to understand what they are so we can use the native type classes that comes with Haskell.</sub>"
   ]
  },
  {
   "cell_type": "markdown",
   "metadata": {},
   "source": [
    "**Type classes are interfaces that define some behavior**. They are like clubs that types can belong to if they have what it takes!\n",
    "\n",
    "If you meet people that belong to the advanced-drawing club, you know that they can draw. Why? Because it's one of the requirements to enter the club!\n",
    "\n",
    "Type classes are the same. They have particular behaviors. **If a type implements and supports the behaviors of a type class, then the type is an Instance of that type class** (a member of that club).\n",
    "\n",
    "A type class can have multiple instances, and a type can belong to multiple type classes.\n",
    "\n",
    "Let's explore a few examples:"
   ]
  },
  {
   "cell_type": "markdown",
   "metadata": {},
   "source": [
    "## Common type classes"
   ]
  },
  {
   "cell_type": "markdown",
   "metadata": {},
   "source": [
    "### The Eq type class"
   ]
  },
  {
   "cell_type": "markdown",
   "metadata": {},
   "source": [
    "The `Eq` type class is all about equality. The types that are instances of the `Eq` type class can say if two values of its type are equal or different by using the `==` (equal) and `/=` (not equal) functions.\n",
    "\n",
    "We can learn more looking at the type signatures of `==` and `/=`:"
   ]
  },
  {
   "cell_type": "code",
   "execution_count": null,
   "metadata": {
    "vscode": {
     "languageId": "plaintext"
    }
   },
   "outputs": [],
   "source": [
    "(==) :: Eq a => a -> a -> Bool\n",
    "\n",
    "(/=) :: Eq a => a -> a -> Bool"
   ]
  },
  {
   "cell_type": "markdown",
   "metadata": {},
   "source": [
    "The `=>` symbol is the **class constraint** symbol.\n",
    "\n",
    "It indicates that **a polymorphic type is constrained to be an instance of a type class**. (In this case, the type a has to be an instance of the type class `Eq`.) So, we're constraining (limiting) the types that you can pass to these two functions, from all the types to only those that are instances of the `Eq` type class."
   ]
  },
  {
   "cell_type": "markdown",
   "metadata": {},
   "source": [
    "How is this useful to you? Because you can use polymorphic types and still protect yourself from passing the wrong type. For example, imagine you create this function:"
   ]
  },
  {
   "cell_type": "code",
   "execution_count": null,
   "metadata": {
    "vscode": {
     "languageId": "plaintext"
    }
   },
   "outputs": [],
   "source": [
    "func x y = if x == y then x else y"
   ]
  },
  {
   "cell_type": "markdown",
   "metadata": {},
   "source": [
    "You don't do math, manipulate strings, or do anything type-dependent. So you can use type variables. **But you do check if the values are equal. So you want to make sure that this function only accepts values that can be checked for equality**. That's what the `Eq` type class constraint is here for. To block you from using types with values that can't be compared.\n",
    "\n",
    "And because `==` has the `Eq a` constraint and `func` uses `==` inside, Haskell is smart enough to infer that our function's type signature also has that constraint:"
   ]
  },
  {
   "cell_type": "code",
   "execution_count": null,
   "metadata": {
    "vscode": {
     "languageId": "plaintext"
    }
   },
   "outputs": [],
   "source": [
    "func :: Eq a => a -> a -> a"
   ]
  },
  {
   "cell_type": "markdown",
   "metadata": {},
   "source": [
    "So far, all the types that we encounter are instances of this class type (except for functions). That's why we can check if two values of type `Char`, `Int`, `String`, etc are equal or not.\n",
    "\n",
    "But, you can't do much with types that belong only to the `Eq` type class. You can only tell if they are the same exact value or not. Luckily, `Eq` is not the only club in town!"
   ]
  },
  {
   "cell_type": "markdown",
   "metadata": {},
   "source": [
    "### The Ord type class"
   ]
  },
  {
   "cell_type": "markdown",
   "metadata": {},
   "source": [
    "The `Ord` type class is all about order. The types that are instances of the `Ord` type class can order their values and say which value is the biggest.\n",
    "\n",
    "For example, a type that is an instance of the Ord type class can use the > (greater than) function:"
   ]
  },
  {
   "cell_type": "code",
   "execution_count": null,
   "metadata": {
    "vscode": {
     "languageId": "plaintext"
    }
   },
   "outputs": [],
   "source": [
    "(>) :: Ord a => a -> a -> Bool"
   ]
  },
  {
   "cell_type": "markdown",
   "metadata": {},
   "source": [
    "We've already used this function in previous lessons. It takes two values of the same type and returns a boolean:"
   ]
  },
  {
   "cell_type": "code",
   "execution_count": null,
   "metadata": {
    "vscode": {
     "languageId": "plaintext"
    }
   },
   "outputs": [],
   "source": [
    "4 > 9 -- False"
   ]
  },
  {
   "cell_type": "markdown",
   "metadata": {},
   "source": [
    "How are the values ordered? It depends on the type. With numbers, it follows the mathematical order (e.g., `4` comes before `5` and after `3`). With characters, it follows the Unicode order. And other types have other rankings.\n",
    "\n",
    "As you can see, each type has its own way of implementing the behaviors (functions) of the type class. And the type class doesn't care, as long as they have them. It makes sense because each type has its own quirks, and a single definition of `==` or `>` can't possibly fit them all."
   ]
  }
 ],
 "metadata": {
  "language_info": {
   "name": "python"
  },
  "orig_nbformat": 4
 },
 "nbformat": 4,
 "nbformat_minor": 2
}
