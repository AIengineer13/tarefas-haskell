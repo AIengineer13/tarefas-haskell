{
 "cells": [
  {
   "cell_type": "markdown",
   "metadata": {},
   "source": []
  },
  {
   "cell_type": "markdown",
   "metadata": {},
   "source": [
    "# Functions, Data Types and Signatures\n",
    "\n",
    "## Outline\n",
    "\n",
    "In this lecture we'll introduce important notions such as:\n",
    "\n",
    "* types;\n",
    "\n",
    "* function signatures;\n",
    "\n",
    "* lists and basic operations with them. "
   ]
  },
  {
   "cell_type": "markdown",
   "metadata": {},
   "source": [
    "## Types and signatures\n",
    "\n",
    "**What is a type?** A type is a kind of label that every expression has. \n",
    "\n",
    "**Benefits provided by types**:\n",
    "* Everything in Haskell has a type.\n",
    "* Types are used to group similar values into categories. \n",
    "* The type of every expression is known at compile time, which leads to safer code.\n",
    "* The type system is a powerful way of reducing the number of mistakes in your code.\n",
    "\n",
    "**Why do we need types?** Haskell is a *functional* programming language and every program consists of *functions*. Each function takes a fixed number of parameters of some types and returns a value which also has a type. For instance, a function"
   ]
  },
  {
   "cell_type": "code",
   "execution_count": null,
   "metadata": {},
   "outputs": [],
   "source": [
    "not :: Bool -> Bool"
   ]
  },
  {
   "cell_type": "markdown",
   "metadata": {},
   "source": [
    "takes a parameter of type `Bool` and returns its negation, which is again of type `Bool`."
   ]
  },
  {
   "cell_type": "markdown",
   "metadata": {},
   "source": [
    "### Frequently used types\n",
    "\n",
    "Among the standard types that are frequently used in Haskell are\n",
    "* `Int` and `Integer` for integer numbers;\n",
    "* `Float` and `Double` for floating point real numbers;\n",
    "* `Bool` for truth values `True` and `False`;\n",
    "* `Char` for characters;\n",
    "* `String` for text variables.\n",
    "\n",
    "Another notation for `String` type is `[Char]`, where the square brackets stand for the list operator: any string is a list of symbols that individually have type Char. \n",
    "\n",
    "It doesn’t matter which of two names for the type to use, but text values are usually denoted as `String`, rather than `[Char]`. "
   ]
  },
  {
   "cell_type": "code",
   "execution_count": null,
   "metadata": {},
   "outputs": [],
   "source": [
    "Prelude> \"Hello world!\" :: String\n",
    "\"Hello world!\"\n",
    "Prelude> \"Hello world!\" :: [Char]\n",
    "\"Hello world!\""
   ]
  },
  {
   "cell_type": "markdown",
   "metadata": {},
   "source": [
    "### How to check the type?\n",
    "\n",
    "The `:type` command (or `:t` for short) in GHCI, followed by any valid expression, tells us its type:\n"
   ]
  },
  {
   "cell_type": "code",
   "execution_count": null,
   "metadata": {},
   "outputs": [],
   "source": [
    "Prelude> :type True\n",
    "True :: Bool\n",
    "Prelude> :type False\n",
    "False :: Bool\n",
    "Prelude> :t (3 < 5)\n",
    "(3 < 5) :: Bool\n",
    "Prelude> :t 'A'\n",
    "'A' :: Char\n",
    "Prelude> :t \"Hello world!\"\n",
    "\"Hello world!\" :: [Char]"
   ]
  },
  {
   "cell_type": "markdown",
   "metadata": {},
   "source": [
    "The double colon symbol `::` should be read as simply \"is of type\", and indicates a type *signature*. \n"
   ]
  },
  {
   "cell_type": "markdown",
   "metadata": {},
   "source": [
    "## Signature of a function\n",
    "\n",
    "Let's explain what is a type siggnature bby the following example. In Haskell a function that squares its argument is defined as "
   ]
  },
  {
   "cell_type": "code",
   "execution_count": null,
   "metadata": {},
   "outputs": [],
   "source": [
    "square :: Int -> Int\n",
    "square v = v*v"
   ]
  },
  {
   "cell_type": "markdown",
   "metadata": {},
   "source": [
    "The first line contains the **signature**, the second line contains the **definition** of a function `square`.\n",
    "\n",
    "* A **signature** of a function is a message to the whole world that such function exists, here it is name and here are the types it works with. \n",
    "\n",
    "* A **definition** of a function is an information about what exactly this function does.\n",
    "\n",
    "In the signature"
   ]
  },
  {
   "cell_type": "code",
   "execution_count": null,
   "metadata": {},
   "outputs": [],
   "source": [
    "square :: Int -> Int"
   ]
  },
  {
   "cell_type": "markdown",
   "metadata": {},
   "source": [
    "two parts are *separated* by a double colon into \n",
    "\n",
    "* the **name** of the function on the left and\n",
    "\n",
    "* the types that this function works with, namely the types of the arguments and the type of the computed final value on the right. \n",
    "\n",
    "**All data in a Haskell program is of a particular type**, and since the function works with data, its **signature contains the types of the data that are separated by arrows `->`**.\n",
    "\n",
    "The signature of the squaring function `square` tells that it accepts a *unique* argument of type `Int` and returns a value of the same `Int` type. \n",
    "\n",
    "If there are more than one argument, the signature is simply pulled out. For example, `prod` function signature, which returns the product of two integer arguments, could look like this:"
   ]
  },
  {
   "cell_type": "code",
   "execution_count": null,
   "metadata": {},
   "outputs": [],
   "source": [
    "prod :: Int -> Int -> Int"
   ]
  },
  {
   "cell_type": "markdown",
   "metadata": {},
   "source": [
    "It has two arguments of `Int` type and its output also has `Int` type."
   ]
  },
  {
   "cell_type": "markdown",
   "metadata": {},
   "source": [
    "#### What signature tells us? \n",
    "\n",
    "Looking at the *rightmost arrow `->`* in the signature we understand that \n",
    "\n",
    "* everything to the left of it are **types of arguments**, that can also be separated by arrows `->`; \n",
    "* everything to the right is a **type of the calculated value**."
   ]
  },
  {
   "cell_type": "markdown",
   "metadata": {},
   "source": [
    "## Definition of a function\n",
    "\n",
    "In the **definition** of a function the equality sign `=` separates the code in two parts:\n",
    "\n",
    "* to the left of the equal sign is the **name of a function** and **argument names** (names, not types!), separated by spaces;\n",
    "\n",
    "* to the right there is an expression that is the essence of the function, its contents. \n",
    "\n",
    "Sometimes these parts are called **head** and **body** respectively. For instance, in the definition of the squaring function"
   ]
  },
  {
   "cell_type": "code",
   "execution_count": null,
   "metadata": {},
   "outputs": [],
   "source": [
    "square v = v * v"
   ]
  },
  {
   "cell_type": "markdown",
   "metadata": {},
   "source": [
    "the name of function is `square`, the (unique) argument is `v`, the head is `square v`, and the body is `v * v`."
   ]
  },
  {
   "cell_type": "markdown",
   "metadata": {},
   "source": [
    "# Data types\n",
    "\n",
    "### Integer number types: Int and Integer\n",
    "\n",
    "**Integer** is an arbitrary precision type: *it will hold any number no matter how big*, up to the limit of your machine's memory, so you never have arithmetic overflows. On the other hand it also means your arithmetic is relatively slow. \n",
    "\n",
    "**Int** is the more common 32 or 64 bit integer. Implementations vary, although it is guaranteed to be at least 30 bits. (In 32-bit machines the range goes from -2147483648 to 2147483647)\n",
    "\n",
    "There are several basic operations common to all numeric types; these include, among others, addition, subtraction, negation, multiplication, and absolute value."
   ]
  },
  {
   "cell_type": "code",
   "execution_count": null,
   "metadata": {},
   "outputs": [],
   "source": [
    "Prelude> 1 + 2\n",
    "3\n",
    "Prelude> 5 - 9\n",
    "-4\n",
    "Prelude> 10 * 4\n",
    "40\n",
    "Prelude> negate 4\n",
    "-4"
   ]
  },
  {
   "cell_type": "markdown",
   "metadata": {},
   "source": [
    "Division is not an integer division by default:"
   ]
  },
  {
   "cell_type": "code",
   "execution_count": null,
   "metadata": {},
   "outputs": [],
   "source": [
    "Prelude> 35 / 5\n",
    "7.0"
   ]
  },
  {
   "cell_type": "markdown",
   "metadata": {},
   "source": [
    "but there are the integer division operators:\n",
    "\n",
    "* **quot** returns the quotient of the two numbers. This is the result of division which is then **truncated towards zero**.\n",
    "* **rem** returns the remainder from the quotient.\n",
    "* **div** similar to *quot*, but is **rounded down towards minus infinity**.\n",
    "* **mod** returns the modulus of the two numbers. This is similar to the remainder *rem*, but has different rules when *div* returns a negative number."
   ]
  },
  {
   "cell_type": "code",
   "execution_count": null,
   "metadata": {},
   "outputs": [],
   "source": [
    "Prelude> div (-30) 9\n",
    "-4\n",
    "Prelude> quot (-30) 9\n",
    "-3\n",
    "Prelude> rem (-30) 9\n",
    "-3\n",
    "Prelude> mod (-30) 9\n",
    "6"
   ]
  },
  {
   "cell_type": "markdown",
   "metadata": {},
   "source": [
    "### Floating point number types: Float and Double\n",
    "\n",
    "#### Difference between Float and Double\n",
    "\n",
    "**Float** is a real floating point with single precision (32 bits), while **Double** is a real floating point with double the precision (64 bits). Both this types support as expected addition, subtraction, negation and multiplication opeations. \n",
    "\n",
    "Behaviorally, you can see the difference between these types if you start up ghci and write:"
   ]
  },
  {
   "cell_type": "code",
   "execution_count": null,
   "metadata": {},
   "outputs": [],
   "source": [
    "-- Square root of 20000000 as Double\n",
    "Prelude> sqrt (20000000) :: Double\n",
    "4472.13595499958\n",
    "\n",
    "-- Square root of 20000000 as Float\n",
    "Prelude> sqrt (20000000) :: Float\n",
    "4472.1357"
   ]
  },
  {
   "cell_type": "markdown",
   "metadata": {},
   "source": [
    "So, when asking for a Float from a square root, the obtained precision is lower. But on a 64 bit machine, they typically need the same space. So then using a Float is not saving you anything. "
   ]
  },
  {
   "cell_type": "markdown",
   "metadata": {},
   "source": [
    "#### Powering\n",
    "\n",
    "There are three \"raise to the power\" operators which work differently and take different argument types.\n",
    "* ** - Takes two floating point numbers and uses logarithms to compute the power.\n",
    "* ^^ - Takes a fractional number (i.e. a floating point or a ratio, of which more later) and raises it to a positive or negative integer power.\n",
    "* ^  - Takes any numerical type and raises it to a positive integer power."
   ]
  },
  {
   "cell_type": "code",
   "execution_count": null,
   "metadata": {},
   "outputs": [],
   "source": [
    "Prelude> 10 ** 3\n",
    "1000.0\n",
    "Prelude> 5 ^^ (-2)\n",
    "4.0e-2\n",
    "Prelude> 5 ^^ 0   \n",
    "1.0\n",
    "Prelude> 5 ^ 0 \n",
    "1"
   ]
  },
  {
   "cell_type": "markdown",
   "metadata": {},
   "source": [
    "#### Other functions for Float and Double types\n",
    "\n",
    "* Conversion from an integer type (Int or Integer) to anything else is done by **fromIntegral**. The target type is inferred automatically. So for example:"
   ]
  },
  {
   "cell_type": "code",
   "execution_count": null,
   "metadata": {},
   "outputs": [],
   "source": [
    "Prelude> (fromIntegral (-5)) :: Float\n",
    "-5.0\n",
    "Prelude> (fromIntegral 5) :: Double\n",
    "5.0"
   ]
  },
  {
   "cell_type": "markdown",
   "metadata": {},
   "source": [
    "* Exponentiation, natural logarithm, based logarithm and square root functions are given by **exp, log, logBase, sqrt** "
   ]
  },
  {
   "cell_type": "code",
   "execution_count": null,
   "metadata": {},
   "outputs": [],
   "source": [
    "Prelude> exp 3\n",
    "20.085536923187668\n",
    "Prelude> log (exp 1)\n",
    "1.0\n",
    "Prelude> log 10\n",
    "2.302585092994046\n",
    "Prelude> logBase 10 100\n",
    "2.0\n",
    "Prelude> sqrt 625\n",
    "25.0"
   ]
  },
  {
   "cell_type": "markdown",
   "metadata": {},
   "source": [
    "* Usual trigonometric functions are suppoted by both real number types: **sin,cos,tan,asin,acos,atan**\n",
    "\n",
    "* Number $\\pi$ and exponentianion constant $e$ are given by **pi** and **exp 1**"
   ]
  },
  {
   "cell_type": "code",
   "execution_count": null,
   "metadata": {},
   "outputs": [],
   "source": [
    "Prelude> pi\n",
    "3.141592653589793\n",
    "Prelude> exp 1\n",
    "2.718281828459045"
   ]
  },
  {
   "cell_type": "markdown",
   "metadata": {},
   "source": [
    "### Boolean type Bool\n",
    "\n",
    "* Haskell has a boolean type **Bool**, with two values: **True** and **False**.\n",
    "\n",
    "* There are also *and* and *or* operators **&&** and **||** defined on the Bool type. "
   ]
  },
  {
   "cell_type": "code",
   "execution_count": null,
   "metadata": {},
   "outputs": [],
   "source": [
    "(&&) :: Bool -> Bool -> Bool\n",
    "\n",
    "(||) :: Bool -> Bool -> Bool"
   ]
  },
  {
   "cell_type": "markdown",
   "metadata": {},
   "source": [
    "* The negation function\n"
   ]
  },
  {
   "cell_type": "code",
   "execution_count": null,
   "metadata": {},
   "outputs": [],
   "source": [
    "not :: Bool -> Bool"
   ]
  },
  {
   "cell_type": "markdown",
   "metadata": {},
   "source": [
    "that returns an opposite truth value of the argument:"
   ]
  },
  {
   "cell_type": "code",
   "execution_count": null,
   "metadata": {},
   "outputs": [],
   "source": [
    "Prelude> not True\n",
    "False\n",
    "Prelude> not False\n",
    "True"
   ]
  },
  {
   "cell_type": "markdown",
   "metadata": {},
   "source": [
    "* Numbers, characters and strings can be compared using the usual **comparison operators** to produce a Bool value: **==, /=, <=, >=, <, >**"
   ]
  },
  {
   "cell_type": "code",
   "execution_count": null,
   "metadata": {},
   "outputs": [],
   "source": [
    "Prelude> 3 == 4\n",
    "False\n",
    "Prelude> 5 /= 0\n",
    "True\n",
    "Prelude> 3 <= 5\n",
    "True\n",
    "Prelude> 3 >= 0\n",
    "True\n",
    "Prelude> 7.2 < 6.1\n",
    "False\n",
    "Prelude> pi > exp 1\n",
    "True"
   ]
  },
  {
   "cell_type": "markdown",
   "metadata": {},
   "source": [
    "### Character type Char\n",
    "\n"
   ]
  },
  {
   "cell_type": "markdown",
   "metadata": {},
   "source": [
    "### Lists"
   ]
  },
  {
   "cell_type": "markdown",
   "metadata": {},
   "source": [
    "### Strings"
   ]
  },
  {
   "cell_type": "markdown",
   "metadata": {},
   "source": [
    "### Tuples\n",
    "\n"
   ]
  }
 ],
 "metadata": {
  "language_info": {
   "name": "python"
  },
  "orig_nbformat": 4
 },
 "nbformat": 4,
 "nbformat_minor": 2
}
